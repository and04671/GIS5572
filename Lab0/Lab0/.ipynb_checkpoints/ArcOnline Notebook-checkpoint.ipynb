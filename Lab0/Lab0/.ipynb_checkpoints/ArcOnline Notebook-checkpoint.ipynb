{
 "cells": [
  {
   "cell_type": "code",
   "execution_count": 11,
   "metadata": {},
   "outputs": [
    {
     "data": {
      "text/plain": [
       "<bound method Mapping.values of {\n",
       "  \"username\": \"and04671_UMN\",\n",
       "  \"id\": \"b1b4dbbf9bc64bd6aeb078ecd09c8828\",\n",
       "  \"fullName\": \"Cole D Anderson\",\n",
       "  \"availableCredits\": 200.0,\n",
       "  \"assignedCredits\": 200.0,\n",
       "  \"firstName\": \"Cole\",\n",
       "  \"lastName\": \"Anderson\",\n",
       "  \"preferredView\": null,\n",
       "  \"description\": \"MGIS student interested in accessibility\",\n",
       "  \"email\": \"and04671@umn.edu\",\n",
       "  \"userType\": \"both\",\n",
       "  \"idpUsername\": \"and04671\",\n",
       "  \"favGroupId\": \"ced9a688b72c49e9a368ba2ddeaf9e28\",\n",
       "  \"lastLogin\": 1612045871000,\n",
       "  \"mfaEnabled\": false,\n",
       "  \"validateUserProfile\": true,\n",
       "  \"storageUsage\": 1047592468945,\n",
       "  \"storageQuota\": 2199023255552,\n",
       "  \"orgId\": \"8df8p0NlLFEShl0r\",\n",
       "  \"role\": \"org_admin\",\n",
       "  \"privileges\": [\n",
       "    \"features:user:edit\",\n",
       "    \"features:user:fullEdit\",\n",
       "    \"portal:admin:createUpdateCapableGroup\",\n",
       "    \"portal:publisher:publishFeatures\",\n",
       "    \"portal:publisher:publishScenes\",\n",
       "    \"portal:publisher:publishTiles\",\n",
       "    \"portal:user:createGroup\",\n",
       "    \"portal:user:createItem\",\n",
       "    \"portal:user:joinGroup\",\n",
       "    \"portal:user:joinNonOrgGroup\",\n",
       "    \"portal:user:shareGroupToOrg\",\n",
       "    \"portal:user:shareGroupToPublic\",\n",
       "    \"portal:user:shareToGroup\",\n",
       "    \"portal:user:shareToOrg\",\n",
       "    \"portal:user:shareToPublic\",\n",
       "    \"portal:user:viewOrgGroups\",\n",
       "    \"portal:user:viewOrgItems\",\n",
       "    \"portal:user:viewOrgUsers\",\n",
       "    \"premium:publisher:createAdvancedNotebooks\",\n",
       "    \"premium:publisher:createNotebooks\",\n",
       "    \"premium:user:demographics\",\n",
       "    \"premium:user:featurereport\",\n",
       "    \"premium:user:geocode\",\n",
       "    \"premium:user:geocode:stored\",\n",
       "    \"premium:user:geocode:temporary\",\n",
       "    \"premium:user:geoenrichment\",\n",
       "    \"premium:user:networkanalysis\",\n",
       "    \"premium:user:networkanalysis:closestfacility\",\n",
       "    \"premium:user:networkanalysis:locationallocation\",\n",
       "    \"premium:user:networkanalysis:optimizedrouting\",\n",
       "    \"premium:user:networkanalysis:origindestinationcostmatrix\",\n",
       "    \"premium:user:networkanalysis:routing\",\n",
       "    \"premium:user:networkanalysis:servicearea\",\n",
       "    \"premium:user:networkanalysis:vehiclerouting\",\n",
       "    \"premium:user:spatialanalysis\"\n",
       "  ],\n",
       "  \"roleId\": \"hBCSSSC3MLr5qfw8\",\n",
       "  \"level\": \"2\",\n",
       "  \"userLicenseTypeId\": \"GISProfessionalAdvUT\",\n",
       "  \"disabled\": false,\n",
       "  \"tags\": [],\n",
       "  \"culture\": \"en\",\n",
       "  \"cultureFormat\": \"us\",\n",
       "  \"region\": \"WO\",\n",
       "  \"units\": \"english\",\n",
       "  \"thumbnail\": \"5hq1o0qdh8tx.jpg\",\n",
       "  \"access\": \"org\",\n",
       "  \"created\": 1548702818000,\n",
       "  \"modified\": 1612045517000,\n",
       "  \"provider\": \"enterprise\"\n",
       "}>"
      ]
     },
     "execution_count": 11,
     "metadata": {},
     "output_type": "execute_result"
    }
   ],
   "source": [
    "from arcgis import *\n",
    "gis = GIS('Pro')\n",
    "gis.properties.user.values"
   ]
  },
  {
   "cell_type": "code",
   "execution_count": null,
   "metadata": {},
   "outputs": [],
   "source": []
  },
  {
   "cell_type": "code",
   "execution_count": null,
   "metadata": {},
   "outputs": [],
   "source": []
  }
 ],
 "metadata": {
  "kernelspec": {
   "display_name": "ArcGISPro",
   "language": "Python",
   "name": "python3"
  },
  "language_info": {
   "file_extension": ".py",
   "name": "python",
   "version": "3"
  }
 },
 "nbformat": 4,
 "nbformat_minor": 2
}
