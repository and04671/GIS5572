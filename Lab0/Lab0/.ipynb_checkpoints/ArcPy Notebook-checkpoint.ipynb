{
 "cells": [
  {
   "cell_type": "code",
   "execution_count": 4,
   "metadata": {},
   "outputs": [],
   "source": [
    "import arcpy"
   ]
  },
  {
   "cell_type": "code",
   "execution_count": 9,
   "metadata": {},
   "outputs": [
    {
     "data": {
      "text/html": [
       "<h2>Output</h2>C:\\Users\\Cole\\Documents\\GitHub\\GIS5572\\Lab0\\Lab0\\Default.gdb\\Arc_Notebook_Out<h2>Messages</h2>Start Time: Saturday, January 30, 2021 4:17:59 PM<br/>Succeeded at Saturday, January 30, 2021 4:18:00 PM (Elapsed Time: 0.99 seconds)<br/><style>.rendered_html td, .rendered_html th {text-align: left;}.rendered_html tbody {border: 1px solid black;}</style>"
      ],
      "text/plain": [
       "<Result 'C:\\\\Users\\\\Cole\\\\Documents\\\\GitHub\\\\GIS5572\\\\Lab0\\\\Lab0\\\\Default.gdb\\\\Arc_Notebook_Out'>"
      ]
     },
     "execution_count": 9,
     "metadata": {},
     "output_type": "execute_result"
    }
   ],
   "source": [
    "arcpy.env.workspace = 'C:/Users/Cole/Documents/GitHub/Lab0/Lab0/Default.gdb'\n",
    "arcpy.analysis.Buffer('Byways_In', 'Arc_Notebook_Out', '4 Miles')"
   ]
  }
 ],
 "metadata": {
  "kernelspec": {
   "display_name": "ArcGISPro",
   "language": "Python",
   "name": "python3"
  },
  "language_info": {
   "file_extension": ".py",
   "name": "python",
   "version": "3"
  }
 },
 "nbformat": 4,
 "nbformat_minor": 2
}
