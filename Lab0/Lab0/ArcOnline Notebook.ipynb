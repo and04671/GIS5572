{
 "cells": [
  {
   "cell_type": "code",
   "execution_count": 11,
   "metadata": {},
   "outputs": [
    {
     "data": {
      "text/plain": [
       "<bound method Mapping.values of {\n",
       "  \"username\": \"and04671_UMN\",\n",
       "  \"id\": \"b1b4dbbf9bc64bd6aeb078ecd09c8828\",\n",
       "  \"fullName\": \"Cole D Anderson\",\n",
       "  \"availableCredits\": 200.0,\n",
       "  \"assignedCredits\": 200.0,\n",
       "  \"firstName\": \"Cole\",\n",
       "  \"lastName\": \"Anderson\",\n",
       "  \"preferredView\": null,\n",
       "  \"description\": \"MGIS student interested in accessibility\",\n",
       "  \"email\": \"and04671@umn.edu\",\n",
       "  \"userType\": \"both\",\n",
       "  \"idpUsername\": \"and04671\",\n",
       "  \"favGroupId\": \"ced9a688b72c49e9a368ba2ddeaf9e28\",\n",
       "  \"lastLogin\": 1612045871000,\n",
       "  \"mfaEnabled\": false,\n",
       "  \"validateUserProfile\": true,\n",
       "  \"storageUsage\": 1047592468945,\n",
       "  \"storageQuota\": 2199023255552,\n",
       "  \"orgId\": \"8df8p0NlLFEShl0r\",\n",
       "  \"role\": \"org_admin\",\n",
       "  \"privileges\": [\n",
       "    \"features:user:edit\",\n",
       "    \"features:user:fullEdit\",\n",
       "    \"portal:admin:createUpdateCapableGroup\",\n",
       "    \"portal:publisher:publishFeatures\",\n",
       "    \"portal:publisher:publishScenes\",\n",
       "    \"portal:publisher:publishTiles\",\n",
       "    \"portal:user:createGroup\",\n",
       "    \"portal:user:createItem\",\n",
       "    \"portal:user:joinGroup\",\n",
       "    \"portal:user:joinNonOrgGroup\",\n",
       "    \"portal:user:shareGroupToOrg\",\n",
       "    \"portal:user:shareGroupToPublic\",\n",
       "    \"portal:user:shareToGroup\",\n",
       "    \"portal:user:shareToOrg\",\n",
       "    \"portal:user:shareToPublic\",\n",
       "    \"portal:user:viewOrgGroups\",\n",
       "    \"portal:user:viewOrgItems\",\n",
       "    \"portal:user:viewOrgUsers\",\n",
       "    \"premium:publisher:createAdvancedNotebooks\",\n",
       "    \"premium:publisher:createNotebooks\",\n",
       "    \"premium:user:demographics\",\n",
       "    \"premium:user:featurereport\",\n",
       "    \"premium:user:geocode\",\n",
       "    \"premium:user:geocode:stored\",\n",
       "    \"premium:user:geocode:temporary\",\n",
       "    \"premium:user:geoenrichment\",\n",
       "    \"premium:user:networkanalysis\",\n",
       "    \"premium:user:networkanalysis:closestfacility\",\n",
       "    \"premium:user:networkanalysis:locationallocation\",\n",
       "    \"premium:user:networkanalysis:optimizedrouting\",\n",
       "    \"premium:user:networkanalysis:origindestinationcostmatrix\",\n",
       "    \"premium:user:networkanalysis:routing\",\n",
       "    \"premium:user:networkanalysis:servicearea\",\n",
       "    \"premium:user:networkanalysis:vehiclerouting\",\n",
       "    \"premium:user:spatialanalysis\"\n",
       "  ],\n",
       "  \"roleId\": \"hBCSSSC3MLr5qfw8\",\n",
       "  \"level\": \"2\",\n",
       "  \"userLicenseTypeId\": \"GISProfessionalAdvUT\",\n",
       "  \"disabled\": false,\n",
       "  \"tags\": [],\n",
       "  \"culture\": \"en\",\n",
       "  \"cultureFormat\": \"us\",\n",
       "  \"region\": \"WO\",\n",
       "  \"units\": \"english\",\n",
       "  \"thumbnail\": \"5hq1o0qdh8tx.jpg\",\n",
       "  \"access\": \"org\",\n",
       "  \"created\": 1548702818000,\n",
       "  \"modified\": 1612045517000,\n",
       "  \"provider\": \"enterprise\"\n",
       "}>"
      ]
     },
     "execution_count": 11,
     "metadata": {},
     "output_type": "execute_result"
    }
   ],
   "source": [
    "from arcgis import *\n",
    "gis = GIS('Pro')\n",
    "gis.properties.user.values"
   ]
  },
  {
   "cell_type": "code",
   "execution_count": 12,
   "metadata": {},
   "outputs": [],
   "source": [
    "properties={'type':'Shapefile', 'filename':'ArcOnline_Upload_Lab0'}"
   ]
  },
  {
   "cell_type": "code",
   "execution_count": 13,
   "metadata": {},
   "outputs": [
    {
     "ename": "Exception",
     "evalue": "Error while analyzing Shapefile 'Scenic_Byways_Non_Measured_in_Minnesota.shp' Invalid Shapefile\n(Error Code: 406)",
     "output_type": "error",
     "traceback": [
      "\u001b[0;31m---------------------------------------------------------------------------\u001b[0m\n\u001b[0;31mException\u001b[0m                                 Traceback (most recent call last)",
      "In  \u001b[0;34m[13]\u001b[0m:\nLine \u001b[0;34m1\u001b[0m:     gis.content.add(properties, \u001b[33mr\u001b[39;49;00m\u001b[33m'\u001b[39;49;00m\u001b[33mC:\u001b[39;49;00m\u001b[33m\\\u001b[39;49;00m\u001b[33mUsers\u001b[39;49;00m\u001b[33m\\\u001b[39;49;00m\u001b[33mCole\u001b[39;49;00m\u001b[33m\\\u001b[39;49;00m\u001b[33mDocuments\u001b[39;49;00m\u001b[33m\\\u001b[39;49;00m\u001b[33mGitHub\u001b[39;49;00m\u001b[33m\\\u001b[39;49;00m\u001b[33mGIS5572\u001b[39;49;00m\u001b[33m\\\u001b[39;49;00m\u001b[33mLab0\u001b[39;49;00m\u001b[33m\\\u001b[39;49;00m\u001b[33mshp_trans_routes_tour\u001b[39;49;00m\u001b[33m\\\u001b[39;49;00m\u001b[33mScenic_Byways_Non_Measured_in_Minnesota.shp\u001b[39;49;00m\u001b[33m'\u001b[39;49;00m)\n",
      "File \u001b[0;34mC:\\Program Files\\ArcGIS\\Pro\\bin\\Python\\envs\\arcgispro-py3\\lib\\site-packages\\arcgis\\gis\\__init__.py\u001b[0m, in \u001b[0;32madd\u001b[0m:\nLine \u001b[0;34m3993\u001b[0m:  owner_name, folder)\n",
      "File \u001b[0;34mC:\\Program Files\\ArcGIS\\Pro\\bin\\Python\\envs\\arcgispro-py3\\lib\\site-packages\\arcgis\\gis\\_impl\\_portalpy.py\u001b[0m, in \u001b[0;32madd_item\u001b[0m:\nLine \u001b[0;34m326\u001b[0m:   resp = \u001b[36mself\u001b[39;49;00m.con.post(path, postdata, files)\n",
      "File \u001b[0;34mC:\\Program Files\\ArcGIS\\Pro\\bin\\Python\\envs\\arcgispro-py3\\lib\\site-packages\\arcgis\\gis\\_impl\\_con\\_connection.py\u001b[0m, in \u001b[0;32mpost\u001b[0m:\nLine \u001b[0;34m710\u001b[0m:   force_bytes=kwargs.pop(\u001b[33m'\u001b[39;49;00m\u001b[33mforce_bytes\u001b[39;49;00m\u001b[33m'\u001b[39;49;00m, \u001b[34mFalse\u001b[39;49;00m))\n",
      "File \u001b[0;34mC:\\Program Files\\ArcGIS\\Pro\\bin\\Python\\envs\\arcgispro-py3\\lib\\site-packages\\arcgis\\gis\\_impl\\_con\\_connection.py\u001b[0m, in \u001b[0;32m_handle_response\u001b[0m:\nLine \u001b[0;34m505\u001b[0m:   \u001b[36mself\u001b[39;49;00m._handle_json_error(data[\u001b[33m'\u001b[39;49;00m\u001b[33merror\u001b[39;49;00m\u001b[33m'\u001b[39;49;00m], errorcode)\n",
      "File \u001b[0;34mC:\\Program Files\\ArcGIS\\Pro\\bin\\Python\\envs\\arcgispro-py3\\lib\\site-packages\\arcgis\\gis\\_impl\\_con\\_connection.py\u001b[0m, in \u001b[0;32m_handle_json_error\u001b[0m:\nLine \u001b[0;34m523\u001b[0m:   \u001b[34mraise\u001b[39;49;00m \u001b[36mException\u001b[39;49;00m(errormessage)\n",
      "\u001b[0;31mException\u001b[0m: Error while analyzing Shapefile 'Scenic_Byways_Non_Measured_in_Minnesota.shp' Invalid Shapefile\n(Error Code: 406)\n\u001b[0;31m---------------------------------------------------------------------------\u001b[0m"
     ]
    }
   ],
   "source": [
    "gis.content.add(properties, r'C:\\Users\\Cole\\Documents\\GitHub\\GIS5572\\Lab0\\shp_trans_routes_tour\\Scenic_Byways_Non_Measured_in_Minnesota.shp')\n",
    "gis.content.add(properties, file_location).publish() "
   ]
  },
  {
   "cell_type": "code",
   "execution_count": null,
   "metadata": {},
   "outputs": [],
   "source": []
  }
 ],
 "metadata": {
  "kernelspec": {
   "display_name": "ArcGISPro",
   "language": "Python",
   "name": "python3"
  },
  "language_info": {
   "file_extension": ".py",
   "name": "python",
   "version": "3"
  }
 },
 "nbformat": 4,
 "nbformat_minor": 2
}
