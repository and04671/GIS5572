{
 "cells": [
  {
   "cell_type": "markdown",
   "metadata": {},
   "source": [
    "## Imports"
   ]
  },
  {
   "cell_type": "code",
   "execution_count": null,
   "metadata": {},
   "outputs": [],
   "source": [
    "import requests\n",
    "import json\n",
    "import zipfile\n",
    "import arcpy"
   ]
  },
  {
   "cell_type": "markdown",
   "metadata": {},
   "source": [
    "## Retrieve the data"
   ]
  },
  {
   "cell_type": "code",
   "execution_count": null,
   "metadata": {},
   "outputs": [],
   "source": [
    "# a function to search MN_Geospatial Commons for specific datasets\n",
    "def downloader (search_query, result_num, resource_num):\n",
    "    ##############################\n",
    "    # the URL is the MNGC API location + search terms you want\n",
    "    big_url = 'https://gisdata.mn.gov/api/3/action/package_search?q=' + search_query\n",
    "    \n",
    "    # Sends a request to the API for the set URL\n",
    "    # API returns response object\n",
    "    response = requests.get(big_url, verify = False)\n",
    "    \n",
    "    # response object need to be loaded as a JSON\n",
    "    json_response = json.loads(response.content)\n",
    "    \n",
    "    # this digs into the first layer of the JSON to a list of results\n",
    "    result_options = json_response['result']['results']\n",
    "    \n",
    "    #select the result \n",
    "    chosen_result = result_options[result_num]\n",
    "    \n",
    "    #dig further to resources and select resource number\n",
    "    resources_under_result= chosen_result['resources'][resource_num]\n",
    "    \n",
    "    # find the URL for that resource for retreival\n",
    "    chosen_resource = resources_under_result['url']\n",
    "    print(chosen_resource)\n",
    "\n",
    "    # send a request to the resource URL and get response object\n",
    "    URL_request = requests.get(chosen_resource)\n",
    "    \n",
    "    #save this response object to a zipfile (because response is a ZIP)\n",
    "    with open('filename.zip', 'wb') as f:\n",
    "        f.write(URL_request.content)  \n",
    "        f.close()\n",
    "        \n",
    "    #extract the zipfile contents     \n",
    "    with zipfile.ZipFile(\"filename.zip\",\"r\") as zip_ref:\n",
    "        zip_ref.extractall('C:\\\\Users\\Cole\\Documents\\GitHub\\GIS5572\\SemProj\\Raw Data')\n",
    "    \n",
    "    #confirm completion\n",
    "    print('Download and extraction complete. Check notebook folder')\n",
    "##############################\n",
    "\n",
    "#execute function for DEM and RoadCenterline datasets\n",
    "downloader('us-mn-state-metrogis-trans-road-centerlines-gac',7,1)\n",
    "downloader('dataset/elev-dtm-30m-condpr-a',1,1)"
   ]
  },
  {
   "cell_type": "markdown",
   "metadata": {},
   "source": [
    "## Create Feature Dataset to work in"
   ]
  },
  {
   "cell_type": "code",
   "execution_count": 38,
   "metadata": {},
   "outputs": [
    {
     "data": {
      "text/html": [
       "<h2>Output</h2>StreetsProject.gdb\\Networks2<h2>Messages</h2>Start Time: Thursday, April 22, 2021 9:14:26 PM<br/>Succeeded at Thursday, April 22, 2021 9:14:26 PM (Elapsed Time: 0.12 seconds)<br/><style>.rendered_html td, .rendered_html th {text-align: left;}.rendered_html tbody {border: 1px solid black;}</style>"
      ],
      "text/plain": [
       "<Result 'StreetsProject.gdb\\\\Networks2'>"
      ]
     },
     "execution_count": 38,
     "metadata": {},
     "output_type": "execute_result"
    }
   ],
   "source": [
    "#find the spatial reference from\n",
    "spatial_ref = arcpy.Describe('C:\\\\Users\\Cole\\Documents\\GitHub\\GIS5572\\SemProj\\Raw Data\\RoadCenterline.shp').spatialReference\n",
    "arcpy.CreateFeatureDataset_management(r'StreetsProject.gdb',\n",
    "'Networks2', spatial_ref)"
   ]
  },
  {
   "cell_type": "markdown",
   "metadata": {},
   "source": [
    "## Bring the data into the GDB/Dataset"
   ]
  },
  {
   "cell_type": "code",
   "execution_count": 39,
   "metadata": {},
   "outputs": [
    {
     "data": {
      "text/html": [
       "<h2>Output</h2>C:\\Users\\Cole\\Documents\\GitHub\\GIS5572\\SemProj\\Notebooks\\StreetsProject.gdb\\DEM<h2>Messages</h2>Start Time: Thursday, April 22, 2021 9:15:27 PM<br/>Building Pyramids...<br/>Calculating Statistics...<br/>Succeeded at Thursday, April 22, 2021 9:16:18 PM (Elapsed Time: 50.96 seconds)<br/><style>.rendered_html td, .rendered_html th {text-align: left;}.rendered_html tbody {border: 1px solid black;}</style>"
      ],
      "text/plain": [
       "<Result 'C:\\\\Users\\\\Cole\\\\Documents\\\\GitHub\\\\GIS5572\\\\SemProj\\\\Notebooks\\\\StreetsProject.gdb\\\\DEM'>"
      ]
     },
     "execution_count": 39,
     "metadata": {},
     "output_type": "execute_result"
    }
   ],
   "source": [
    "#can skip is subsequent test\n",
    "import arcpy\n",
    "arcpy.env.workspace = 'C:\\\\Users\\Cole\\Documents\\GitHub\\GIS5572\\SemProj'\n",
    "arcpy.FeatureClassToGeodatabase_conversion('Raw Data\\RoadCenterline.shp',\n",
    "                                           'Notebooks\\StreetsProject.gdb\\\\Networks2')\n",
    "arcpy.CopyRaster_management('Raw Data\\digital_terrain_model.gdb\\DTM30CONDPR_A',\n",
    "                                           'Notebooks\\StreetsProject.gdb\\\\DEM')"
   ]
  },
  {
   "cell_type": "markdown",
   "metadata": {},
   "source": [
    "## Calculate elevations for RoadCenterlines from DEM"
   ]
  },
  {
   "cell_type": "code",
   "execution_count": 41,
   "metadata": {},
   "outputs": [
    {
     "data": {
      "text/html": [
       "<h2>Output</h2>C:\\Users\\Cole\\Documents\\GitHub\\GIS5572\\SemProj\\Notebooks\\StreetsProject.gdb\\Networks2\\RoadCenterline<h2>Messages</h2>Start Time: Thursday, April 22, 2021 9:17:04 PM<br/>Succeeded at Thursday, April 22, 2021 9:19:42 PM (Elapsed Time: 2 minutes 38 seconds)<br/><style>.rendered_html td, .rendered_html th {text-align: left;}.rendered_html tbody {border: 1px solid black;}</style>"
      ],
      "text/plain": [
       "<Result 'C:\\\\Users\\\\Cole\\\\Documents\\\\GitHub\\\\GIS5572\\\\SemProj\\\\Notebooks\\\\StreetsProject.gdb\\\\Networks2\\\\RoadCenterline'>"
      ]
     },
     "execution_count": 41,
     "metadata": {},
     "output_type": "execute_result"
    }
   ],
   "source": [
    "import arcpy\n",
    "arcpy.env.workspace = 'C:\\\\Users\\\\Cole\\\\Documents\\\\GitHub\\\\GIS5572\\\\SemProj\\\\Notebooks\\\\StreetsProject.gdb'\n",
    "\n",
    "roads = \"Networks2\\\\RoadCenterline\"\n",
    "arcpy.AddSurfaceInformation_3d(roads, \"DEM\", \"Z_MAX;Z_MIN\", \"LINEAR\")"
   ]
  },
  {
   "cell_type": "markdown",
   "metadata": {},
   "source": [
    "## Convert RoadCenterlines units from M to FT"
   ]
  },
  {
   "cell_type": "code",
   "execution_count": 43,
   "metadata": {
    "scrolled": true
   },
   "outputs": [
    {
     "data": {
      "text/html": [
       "<h2>Output</h2>a Layer object<h2>Messages</h2>Start Time: Thursday, April 22, 2021 9:20:58 PM<br/>Adding LENG_FT to RoadCenterline...<br/>Succeeded at Thursday, April 22, 2021 9:21:15 PM (Elapsed Time: 17.03 seconds)<br/><style>.rendered_html td, .rendered_html th {text-align: left;}.rendered_html tbody {border: 1px solid black;}</style>"
      ],
      "text/plain": [
       "<Result 'RoadCenterline'>"
      ]
     },
     "execution_count": 43,
     "metadata": {},
     "output_type": "execute_result"
    }
   ],
   "source": [
    "#need to divide by 3.28 to from m to ft. ft is what the roads are in\n",
    "import arcpy\n",
    "arcpy.env.workspace = 'C:\\\\Users\\\\Cole\\\\Documents\\\\GitHub\\\\GIS5572\\\\SemProj\\\\Notebooks\\\\StreetsProject.gdb\\\\Networks2'\n",
    "# need to convert the lenghths to feet like the elevation    \n",
    "arcpy.CalculateField_management(\"RoadCenterline\", \"LENG_FT\", \"!Shape_Length!*3.28\", \"PYTHON3\", field_type = 'DOUBLE')"
   ]
  },
  {
   "cell_type": "markdown",
   "metadata": {},
   "source": [
    "## Find the slope"
   ]
  },
  {
   "cell_type": "code",
   "execution_count": 44,
   "metadata": {},
   "outputs": [
    {
     "data": {
      "text/html": [
       "<h2>Output</h2>a Layer object<h2>Messages</h2>Start Time: Thursday, April 22, 2021 9:21:48 PM<br/>Adding Slope to RoadCenterline...<br/>Succeeded at Thursday, April 22, 2021 9:22:06 PM (Elapsed Time: 18.09 seconds)<br/><style>.rendered_html td, .rendered_html th {text-align: left;}.rendered_html tbody {border: 1px solid black;}</style>"
      ],
      "text/plain": [
       "<Result 'RoadCenterline'>"
      ]
     },
     "execution_count": 44,
     "metadata": {},
     "output_type": "execute_result"
    }
   ],
   "source": [
    "#now we can find slope w/ units correct\n",
    "arcpy.env.workspace = 'C:\\\\Users\\\\Cole\\\\Documents\\\\GitHub\\\\GIS5572\\\\SemProj\\\\Notebooks\\\\StreetsProject.gdb\\\\Networks2'\n",
    "arcpy.CalculateField_management(\"RoadCenterline\", \"Slope\", \n",
    "                                '(!Z_MAX!-!Z_MIN!)/!LENG_FT!', \"PYTHON3\", field_type = 'DOUBLE')"
   ]
  },
  {
   "cell_type": "markdown",
   "metadata": {},
   "source": [
    "## Find the energy cost on the roadlines layer"
   ]
  },
  {
   "cell_type": "code",
   "execution_count": 45,
   "metadata": {},
   "outputs": [
    {
     "data": {
      "text/html": [
       "<h2>Output</h2>a Layer object<h2>Messages</h2>Start Time: Thursday, April 22, 2021 9:22:31 PM<br/>Adding E_Score to RoadCenterline...<br/>Succeeded at Thursday, April 22, 2021 9:22:54 PM (Elapsed Time: 22.87 seconds)<br/><style>.rendered_html td, .rendered_html th {text-align: left;}.rendered_html tbody {border: 1px solid black;}</style>"
      ],
      "text/plain": [
       "<Result 'RoadCenterline'>"
      ]
     },
     "execution_count": 45,
     "metadata": {},
     "output_type": "execute_result"
    }
   ],
   "source": [
    "# e-score: absolute and linear for now - length * slope score\n",
    "    # might be better if curved: 30' hill takes >2x energy vs. 15' hill NOT TRUE\n",
    "arcpy.CalculateField_management(\"RoadCenterline\", \"E_Score\", \n",
    "                                '!Slope!*!LENG_FT!', \"PYTHON3\", field_type = 'DOUBLE')"
   ]
  },
  {
   "cell_type": "markdown",
   "metadata": {},
   "source": [
    "## Create Network Dataset"
   ]
  },
  {
   "cell_type": "code",
   "execution_count": 69,
   "metadata": {},
   "outputs": [
    {
     "data": {
      "text/html": [
       "<h2>Output</h2>C:\\Users\\Cole\\Documents\\GitHub\\GIS5572\\SemProj\\Notebooks\\StreetsProject.gdb\\Networks2\\All_ND<h2>Messages</h2>Start Time: Thursday, April 22, 2021 9:52:07 PM<br/>WARNING 030116: The network was built, but with some errors.  Error details are at \"C:\\Users\\Cole\\AppData\\Local\\Temp\\ArcGISProTemp73128\\BuildErrors.txt\".<br/>Succeeded at Thursday, April 22, 2021 9:52:38 PM (Elapsed Time: 30.80 seconds)<br/><style>.rendered_html td, .rendered_html th {text-align: left;}.rendered_html tbody {border: 1px solid black;}</style>"
      ],
      "text/plain": [
       "<Result 'C:\\\\Users\\\\Cole\\\\Documents\\\\GitHub\\\\GIS5572\\\\SemProj\\\\Notebooks\\\\StreetsProject.gdb\\\\Networks2\\\\All_ND'>"
      ]
     },
     "execution_count": 69,
     "metadata": {},
     "output_type": "execute_result"
    }
   ],
   "source": [
    "arcpy.env.workspace = 'C:\\\\Users\\\\Cole\\\\Documents\\\\GitHub\\\\GIS5572\\\\SemProj\\\\Notebooks\\\\StreetsProject.gdb'\n",
    "#arcpy.CopyFeatures_management(\"Networks2\\\\RoadCenterline\", \"Networks2\\\\AllRoads\")\n",
    "arcpy.na.CreateNetworkDataset(r\"Networks2\", \n",
    "                              \"All_ND\", \"RoadCenterline\", \n",
    "                              \"ELEVATION_FIELDS\")\n",
    "\n",
    "arcpy.na.BuildNetwork('Networks2\\All_ND')"
   ]
  },
  {
   "cell_type": "markdown",
   "metadata": {},
   "source": [
    "## Create ND_Layer "
   ]
  },
  {
   "cell_type": "code",
   "execution_count": 1,
   "metadata": {},
   "outputs": [],
   "source": [
    "arcpy.env.workspace = 'C:\\\\Users\\\\Cole\\\\Documents\\\\GitHub\\\\GIS5572\\\\SemProj\\\\Notebooks\\\\StreetsProject.gdb'\n",
    "\n",
    "#inputs/outputs\n",
    "NDS = r'Networks2/All_ND'\n",
    "ND_layer = 'Working'\n",
    "#input_stops = 'Networks2\\\\SourceModel'\n",
    "#output_routes = r'C:\\\\Users\\Cole\\Documents\\GitHub\\GIS5572\\SemProj\\Notebooks\\StreetsProject.gdb\\Result'\n",
    "arcpy.nax.MakeNetworkDatasetLayer(NDS, ND_layer)\n",
    "#current model\n",
    "\n",
    "#create a newtork dataset layer from the NDS for faster processing\n",
    "# this ND layer is only temprorary, not sved to hard memeory\n"
   ]
  },
  {
   "cell_type": "markdown",
   "metadata": {},
   "source": [
    "## Create TravelMode"
   ]
  },
  {
   "cell_type": "code",
   "execution_count": 10,
   "metadata": {},
   "outputs": [
    {
     "name": "stdout",
     "output_type": "stream",
     "text": [
      "{'New Travel Mode': <Network Travel Mode object object at 0x000001D54A8D29D0>}\n"
     ]
    }
   ],
   "source": [
    "# actually have to make from scratch or do in GUI 1 block earlier\n",
    "arcpy.nax.TravelMode(None,{\n",
    " #   (attribute name, parameter : parameter value),\n",
    "  #  (type : WALK), (useHierarchy: NO_HEIRARCHY)})\n",
    "nd_travel_modes = arcpy.nax.GetTravelModes(NDS)\n",
    "travel_mode = nd_travel_modes[\"???????\"]"
   ]
  },
  {
   "cell_type": "markdown",
   "metadata": {},
   "source": [
    "## Create Inputs Layer"
   ]
  },
  {
   "cell_type": "code",
   "execution_count": null,
   "metadata": {},
   "outputs": [],
   "source": [
    "#build the start and end point layer, sourceModel\n",
    "import arcpy\n",
    "arcpy.env.workspace = 'C:\\\\Users\\\\Cole\\\\Documents\\\\GitHub\\\\GIS5572\\\\SemProj\\\\Notebooks\\\\StreetsProject.gdb'\n",
    "spatial_ref = arcpy.Describe(\"Networks2\\\\RoadCenterline\").spatialReference\n",
    "#create a new feature class\n",
    "arcpy.CreateFeatureclass_management(\"Networks2\",\"SourceModel\", \"POINT\",\n",
    "                                   spatial_reference = spatial_ref)"
   ]
  },
  {
   "cell_type": "markdown",
   "metadata": {},
   "source": [
    "## Add Facilities/Stops to Inputs Layer"
   ]
  },
  {
   "cell_type": "code",
   "execution_count": 12,
   "metadata": {},
   "outputs": [],
   "source": [
    "# AFTER travel modes because so don't have to redo every time if executing lineraly \n",
    "\n",
    "##########################################\n",
    "start = arcpy.Point(484436.82, 4976072.95)\n",
    "end = arcpy.Point(485814.56, 4974921.37)\n",
    "###################-change-##############\n",
    "# add the start and end points to the the sourcemodel\n",
    "arcpy.env.workspace = 'C:\\\\Users\\\\Cole\\\\Documents\\\\GitHub\\\\GIS5572\\\\SemProj\\\\Notebooks\\\\StreetsProject.gdb\\\\Networks2'\n",
    "feature_class_source = \"SourceModel\"\n",
    "cursor = arcpy.da.InsertCursor(feature_class_source,\"SHAPE@XY\")\n",
    "cursor.insertRow([start])\n",
    "cursor.insertRow([end])\n",
    "del cursor"
   ]
  },
  {
   "cell_type": "markdown",
   "metadata": {},
   "source": [
    "## Initialize Route Solver"
   ]
  },
  {
   "cell_type": "code",
   "execution_count": 7,
   "metadata": {},
   "outputs": [
    {
     "ename": "ValueError",
     "evalue": "Input network dataset does not have at least one travel mode.",
     "output_type": "error",
     "traceback": [
      "\u001b[0;31m---------------------------------------------------------------------------\u001b[0m\n\u001b[0;31mValueError\u001b[0m                                Traceback (most recent call last)",
      "In  \u001b[0;34m[7]\u001b[0m:\nLine \u001b[0;34m2\u001b[0m:     route = arcpy.nax.Route(ND_layer)\n",
      "File \u001b[0;34mC:\\Program Files\\ArcGIS\\Pro\\Resources\\ArcPy\\arcpy\\_na\\_rs.py\u001b[0m, in \u001b[0;32m__init__\u001b[0m:\nLine \u001b[0;34m83\u001b[0m:    \u001b[36msuper\u001b[39;49;00m().\u001b[32m__init__\u001b[39;49;00m(in_network)\n",
      "\u001b[0;31mValueError\u001b[0m: Input network dataset does not have at least one travel mode.\n\u001b[0;31m---------------------------------------------------------------------------\u001b[0m"
     ]
    }
   ],
   "source": [
    "## Instantiate a Route solver object\n",
    "route = arcpy.nax.Route(ND_layer)"
   ]
  },
  {
   "cell_type": "markdown",
   "metadata": {},
   "source": [
    "## Set Route Solver properties"
   ]
  },
  {
   "cell_type": "code",
   "execution_count": null,
   "metadata": {},
   "outputs": [],
   "source": [
    "#set network properties\n",
    "route.timeUnits = arcpy.nax.TimeUnits.Minutes\n",
    "\n",
    "route.accumulateAttributeNames = \n",
    "\n",
    "route.directionsDistanceUnits = \n",
    "\n",
    "route.distanceUnits =\n",
    "\n",
    "route.findBestSequence =\n",
    "\n",
    "#route.networkDataSource =\n",
    "\n",
    "route.preserveFirstStop =\n",
    "\n",
    "route.preserveLastStop =\n",
    "\n",
    "route.returnDirections =\n",
    "\n",
    "route.returnRouteEdges = True\n",
    "\n",
    "route.returnRouteJunctions = \n",
    "\n",
    "route.returnRouteTurns = \n",
    "\n",
    "route.returnToStart = \n",
    "\n",
    "route.searchTolerance = \n",
    "\n",
    "route.searchToleranceUnits = \n",
    "\n",
    "route.travelMode = "
   ]
  },
  {
   "cell_type": "markdown",
   "metadata": {},
   "source": [
    "## Load Inputs Layer"
   ]
  },
  {
   "cell_type": "code",
   "execution_count": null,
   "metadata": {},
   "outputs": [],
   "source": [
    "route.load(arcpy.nax.RouteInputDataType.Stops, SourceModel)"
   ]
  },
  {
   "cell_type": "markdown",
   "metadata": {},
   "source": [
    "## Solve the Route Solver"
   ]
  },
  {
   "cell_type": "code",
   "execution_count": null,
   "metadata": {},
   "outputs": [],
   "source": [
    "#solve\n",
    "result = route.solve()\n",
    "\n",
    "#error checker\n",
    "if result.solveSucceeded:\n",
    "    result.export(arcpy.nax.RouteOutputDataType.Routes, output_routes)\n",
    "else:\n",
    "    print(\"Solved failed\")\n",
    "    print(result.solverMessages(arcpy.nax.MessageSeverity.All)) "
   ]
  },
  {
   "cell_type": "markdown",
   "metadata": {},
   "source": [
    "## Depreciated Model/OLD"
   ]
  },
  {
   "cell_type": "code",
   "execution_count": null,
   "metadata": {},
   "outputs": [],
   "source": [
    "#depreciated\n",
    "\n",
    "\n",
    "#selected manually in ArcPro: GrandAveTest roads set\n",
    "\n",
    "arcpy.CopyFeatures_management(\"RoadCenterline\", \"Networks2\\AllRoads\")\n",
    "arcpy.na.CreateNetworkDataset(r\"Networks\", \n",
    "                              \"All_ND\", \"AllRoads\", \n",
    "                              \"ELEVATION_FIELDS\")\n",
    "\n",
    "arcpy.na.BuildNetwork('Networks\\Test_ND')\n",
    "arcpy.na.BuildNetwork('Networks\\All_ND')\n",
    "\n",
    "#depreciated*****\n",
    "\n",
    "#NAX module\n",
    "## Source Settings\n",
    "    ## Vertical connect.\n",
    "## Travel Attributes\n",
    "    ## Travel Modes: create one for walking, one for wheelchair\n",
    "    ## Costs: Energy_Cost = E_score (assign at different quadratic?)\n",
    "        ## wheelchair energy cost increases faster,\n",
    "        ## but has a lower slope limit than person (.12% slope vs .3% slope),\n",
    "        # and slightly higher power limit (say, 450 W vs 400 W)\n",
    "    ## Restrictions: avoid energy cost, high\n",
    "## Directions\n",
    "    ## Support Directions:checked\n",
    "    ## Field mapping: full name to ST_name\n",
    "    \n",
    "arcpy.na.BuildNetwork('Networks\\Test_ND')\n",
    "arcpy.na.BuildNetwork('Networks\\All_ND')\n",
    "\n",
    "#depreciated**********\n",
    "\n",
    "def routelayers(network, output, mode):\n",
    "    arcpy.env.workspace = 'C:\\\\Users\\\\Cole\\\\Documents\\\\GitHub\\\\GIS5572\\\\SemProj\\\\Notebooks\\\\StreetsProject.gdb\\\\Networks'\n",
    "   \n",
    "    #create a route analysis layer\n",
    "    result_object = arcpy.na.MakeRouteAnalysisLayer(network, output, mode,\"PRESERVE_BOTH\")\n",
    "   \n",
    "    #grab the route layer object from the result object layer\n",
    "    layer_object = result_object.getOutput(0)\n",
    "    \n",
    "    # add locations from SourceModel to the route layer object as Stops\n",
    "    arcpy.na.AddLocations(layer_object, \"Stops\", \"SourceModel\")\n",
    "    \n",
    "    \n",
    "    #some network modify commands take pl\n",
    "    \n",
    "    \n",
    "    arcpy.na.Solve(layer_object)\n",
    "    layer_object.saveACopy(\"C:\\\\Users\\\\Cole\\\\Documents\\\\GitHub\\\\GIS5572\\\\SemProj\\\\Output\\\\\"+output)\n",
    "    \n",
    "routelayers(\"All_ND\", \"Walking\", \"Walking\")\n",
    "routelayers(\"All_ND\", \"Wheelchair\", \"Wheelchair\")"
   ]
  }
 ],
 "metadata": {
  "kernelspec": {
   "display_name": "ArcGISPro",
   "language": "Python",
   "name": "python3"
  },
  "language_info": {
   "file_extension": ".py",
   "name": "python",
   "version": "3"
  }
 },
 "nbformat": 4,
 "nbformat_minor": 4
}
