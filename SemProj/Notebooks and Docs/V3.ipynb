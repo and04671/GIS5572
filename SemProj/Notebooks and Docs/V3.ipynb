{
 "cells": [
  {
   "cell_type": "markdown",
   "metadata": {},
   "source": [
    "# Finding the Lowest Energy Pathway \n",
    "#### ArcGIS 2\n",
    "#### Cole Anderson"
   ]
  },
  {
   "cell_type": "code",
   "execution_count": 49,
   "metadata": {},
   "outputs": [],
   "source": [
    "import arcpy\n",
    "#Fill In\n",
    "\n",
    "\n",
    "#these are in UTM\n",
    "\n",
    "#hashed out later"
   ]
  },
  {
   "cell_type": "markdown",
   "metadata": {},
   "source": [
    "## Imports (run EVERY time first)"
   ]
  },
  {
   "cell_type": "code",
   "execution_count": 50,
   "metadata": {},
   "outputs": [],
   "source": [
    "import requests\n",
    "import json\n",
    "import zipfile\n",
    "import arcpy"
   ]
  },
  {
   "cell_type": "markdown",
   "metadata": {},
   "source": [
    "## Retrieve the data"
   ]
  },
  {
   "cell_type": "code",
   "execution_count": null,
   "metadata": {},
   "outputs": [],
   "source": [
    "# a function to search MN_Geospatial Commons for specific datasets\n",
    "def downloader (search_query, result_num, resource_num):\n",
    "    ##############################\n",
    "    # the URL is the MNGC API location + search terms you want\n",
    "    big_url = 'https://gisdata.mn.gov/api/3/action/package_search?q=' + search_query\n",
    "    \n",
    "    # Sends a request to the API for the set URL\n",
    "    # API returns response object\n",
    "    response = requests.get(big_url, verify = False)\n",
    "    \n",
    "    # response object need to be loaded as a JSON\n",
    "    json_response = json.loads(response.content)\n",
    "    \n",
    "    # this digs into the first layer of the JSON to a list of results\n",
    "    result_options = json_response['result']['results']\n",
    "    \n",
    "    #select the result \n",
    "    chosen_result = result_options[result_num]\n",
    "    \n",
    "    #dig further to resources and select resource number\n",
    "    resources_under_result= chosen_result['resources'][resource_num]\n",
    "    \n",
    "    # find the URL for that resource for retreival\n",
    "    chosen_resource = resources_under_result['url']\n",
    "    print(chosen_resource)\n",
    "\n",
    "    # send a request to the resource URL and get response object\n",
    "    URL_request = requests.get(chosen_resource)\n",
    "    \n",
    "    #save this response object to a zipfile (because response is a ZIP)\n",
    "    with open('filename.zip', 'wb') as f:\n",
    "        f.write(URL_request.content)  \n",
    "        f.close()\n",
    "        \n",
    "    #extract the zipfile contents     \n",
    "    with zipfile.ZipFile(\"filename.zip\",\"r\") as zip_ref:\n",
    "        zip_ref.extractall('C:\\\\Users\\Cole\\Documents\\GitHub\\GIS5572\\SemProj\\Raw Data')\n",
    "    \n",
    "    #confirm completion\n",
    "    print('Download and extraction complete. Check notebook folder')\n",
    "##############################\n",
    "\n",
    "#execute function for DEM and RoadCenterline datasets\n",
    "downloader('us-mn-state-metrogis-trans-road-centerlines-gac',7,1)\n",
    "downloader('dataset/elev-dtm-30m-condpr-a',1,1)"
   ]
  },
  {
   "cell_type": "markdown",
   "metadata": {},
   "source": [
    "## Create Feature Dataset to work in"
   ]
  },
  {
   "cell_type": "code",
   "execution_count": 38,
   "metadata": {},
   "outputs": [
    {
     "data": {
      "text/html": [
       "<h2>Output</h2>StreetsProject.gdb\\Networks2<h2>Messages</h2>Start Time: Thursday, April 22, 2021 9:14:26 PM<br/>Succeeded at Thursday, April 22, 2021 9:14:26 PM (Elapsed Time: 0.12 seconds)<br/><style>.rendered_html td, .rendered_html th {text-align: left;}.rendered_html tbody {border: 1px solid black;}</style>"
      ],
      "text/plain": [
       "<Result 'StreetsProject.gdb\\\\Networks2'>"
      ]
     },
     "execution_count": 38,
     "metadata": {},
     "output_type": "execute_result"
    }
   ],
   "source": [
    "#find the spatial reference from RoadCenterline\n",
    "spatial_ref = arcpy.Describe('C:\\\\Users\\Cole\\Documents\\GitHub\\GIS5572\\SemProj\\Raw Data\\RoadCenterline.shp').spatialReference\n",
    "\n",
    "# create a new feature dataset inside the project GDB using spatial reference from above\n",
    "arcpy.CreateFeatureDataset_management(r'StreetsProject.gdb',\n",
    "'Networks2', spatial_ref)"
   ]
  },
  {
   "cell_type": "markdown",
   "metadata": {},
   "source": [
    "## Bring the data into the GDB/Dataset"
   ]
  },
  {
   "cell_type": "code",
   "execution_count": 39,
   "metadata": {},
   "outputs": [
    {
     "data": {
      "text/html": [
       "<h2>Output</h2>C:\\Users\\Cole\\Documents\\GitHub\\GIS5572\\SemProj\\Notebooks\\StreetsProject.gdb\\DEM<h2>Messages</h2>Start Time: Thursday, April 22, 2021 9:15:27 PM<br/>Building Pyramids...<br/>Calculating Statistics...<br/>Succeeded at Thursday, April 22, 2021 9:16:18 PM (Elapsed Time: 50.96 seconds)<br/><style>.rendered_html td, .rendered_html th {text-align: left;}.rendered_html tbody {border: 1px solid black;}</style>"
      ],
      "text/plain": [
       "<Result 'C:\\\\Users\\\\Cole\\\\Documents\\\\GitHub\\\\GIS5572\\\\SemProj\\\\Notebooks\\\\StreetsProject.gdb\\\\DEM'>"
      ]
     },
     "execution_count": 39,
     "metadata": {},
     "output_type": "execute_result"
    }
   ],
   "source": [
    "# set workspace up a level\n",
    "arcpy.env.workspace = 'C:\\\\Users\\Cole\\Documents\\GitHub\\GIS5572\\SemProj'\n",
    "\n",
    "#bring Roadlines into the GDB feature dataset\n",
    "arcpy.FeatureClassToGeodatabase_conversion('Raw Data\\RoadCenterline.shp',\n",
    "                                           'Notebooks\\StreetsProject.gdb\\\\Networks2')\n",
    "#bring DEM into the GDB (cannot bring inside FD)\n",
    "arcpy.CopyRaster_management('Raw Data\\digital_terrain_model.gdb\\DTM30CONDPR_A',\n",
    "                                           'Notebooks\\StreetsProject.gdb\\\\DEM')"
   ]
  },
  {
   "cell_type": "markdown",
   "metadata": {},
   "source": [
    "## Calculate elevations for RoadCenterlines from DEM"
   ]
  },
  {
   "cell_type": "code",
   "execution_count": 41,
   "metadata": {},
   "outputs": [
    {
     "data": {
      "text/html": [
       "<h2>Output</h2>C:\\Users\\Cole\\Documents\\GitHub\\GIS5572\\SemProj\\Notebooks\\StreetsProject.gdb\\Networks2\\RoadCenterline<h2>Messages</h2>Start Time: Thursday, April 22, 2021 9:17:04 PM<br/>Succeeded at Thursday, April 22, 2021 9:19:42 PM (Elapsed Time: 2 minutes 38 seconds)<br/><style>.rendered_html td, .rendered_html th {text-align: left;}.rendered_html tbody {border: 1px solid black;}</style>"
      ],
      "text/plain": [
       "<Result 'C:\\\\Users\\\\Cole\\\\Documents\\\\GitHub\\\\GIS5572\\\\SemProj\\\\Notebooks\\\\StreetsProject.gdb\\\\Networks2\\\\RoadCenterline'>"
      ]
     },
     "execution_count": 41,
     "metadata": {},
     "output_type": "execute_result"
    }
   ],
   "source": [
    "#workspace reset\n",
    "arcpy.env.workspace = 'C:\\\\Users\\\\Cole\\\\Documents\\\\GitHub\\\\GIS5572\\\\SemProj\\\\Notebooks\\\\StreetsProject.gdb'\n",
    "\n",
    "#variable for RoadCenterline layer\n",
    "roads = \"Networks2\\\\RoadCenterline\"\n",
    "\n",
    "#find min and max elevation for roads from DEM\n",
    "arcpy.AddSurfaceInformation_3d(roads, \"DEM\", \"Z_MAX;Z_MIN\", \"LINEAR\")"
   ]
  },
  {
   "cell_type": "markdown",
   "metadata": {},
   "source": [
    "## Convert RoadCenterlines units from M to FT"
   ]
  },
  {
   "cell_type": "code",
   "execution_count": 43,
   "metadata": {
    "scrolled": true
   },
   "outputs": [
    {
     "data": {
      "text/html": [
       "<h2>Output</h2>a Layer object<h2>Messages</h2>Start Time: Thursday, April 22, 2021 9:20:58 PM<br/>Adding LENG_FT to RoadCenterline...<br/>Succeeded at Thursday, April 22, 2021 9:21:15 PM (Elapsed Time: 17.03 seconds)<br/><style>.rendered_html td, .rendered_html th {text-align: left;}.rendered_html tbody {border: 1px solid black;}</style>"
      ],
      "text/plain": [
       "<Result 'RoadCenterline'>"
      ]
     },
     "execution_count": 43,
     "metadata": {},
     "output_type": "execute_result"
    }
   ],
   "source": [
    "# reset workspace\n",
    "arcpy.env.workspace = 'C:\\\\Users\\\\Cole\\\\Documents\\\\GitHub\\\\GIS5572\\\\SemProj\\\\Notebooks\\\\StreetsProject.gdb\\\\Networks2'\n",
    "\n",
    "\n",
    "#need to divide road lengths by 3.28 to convert m to ft.\n",
    "arcpy.CalculateField_management(\"RoadCenterline\", \"LENG_FT\", \"!Shape_Length!*3.28\", \"PYTHON3\", field_type = 'DOUBLE')"
   ]
  },
  {
   "cell_type": "markdown",
   "metadata": {},
   "source": [
    "## Find the slope"
   ]
  },
  {
   "cell_type": "code",
   "execution_count": 44,
   "metadata": {},
   "outputs": [
    {
     "data": {
      "text/html": [
       "<h2>Output</h2>a Layer object<h2>Messages</h2>Start Time: Thursday, April 22, 2021 9:21:48 PM<br/>Adding Slope to RoadCenterline...<br/>Succeeded at Thursday, April 22, 2021 9:22:06 PM (Elapsed Time: 18.09 seconds)<br/><style>.rendered_html td, .rendered_html th {text-align: left;}.rendered_html tbody {border: 1px solid black;}</style>"
      ],
      "text/plain": [
       "<Result 'RoadCenterline'>"
      ]
     },
     "execution_count": 44,
     "metadata": {},
     "output_type": "execute_result"
    }
   ],
   "source": [
    "#reset workspace\n",
    "arcpy.env.workspace = 'C:\\\\Users\\\\Cole\\\\Documents\\\\GitHub\\\\GIS5572\\\\SemProj\\\\Notebooks\\\\StreetsProject.gdb\\\\Networks2'\n",
    "\n",
    "# calculate the slope of roads now that units are the same\n",
    "arcpy.CalculateField_management(\"RoadCenterline\", \"Slope\", \n",
    "                                '(!Z_MAX!-!Z_MIN!)/!LENG_FT!', \"PYTHON3\", field_type = 'DOUBLE')"
   ]
  },
  {
   "cell_type": "markdown",
   "metadata": {},
   "source": [
    "## Find the energy cost on the roadlines layer"
   ]
  },
  {
   "cell_type": "code",
   "execution_count": 45,
   "metadata": {},
   "outputs": [
    {
     "data": {
      "text/html": [
       "<h2>Output</h2>a Layer object<h2>Messages</h2>Start Time: Thursday, April 22, 2021 9:22:31 PM<br/>Adding E_Score to RoadCenterline...<br/>Succeeded at Thursday, April 22, 2021 9:22:54 PM (Elapsed Time: 22.87 seconds)<br/><style>.rendered_html td, .rendered_html th {text-align: left;}.rendered_html tbody {border: 1px solid black;}</style>"
      ],
      "text/plain": [
       "<Result 'RoadCenterline'>"
      ]
     },
     "execution_count": 45,
     "metadata": {},
     "output_type": "execute_result"
    }
   ],
   "source": [
    "#Find the Energy score: length * slope score \n",
    "\n",
    "# 30' hill takes >2x energy vs. 15' hill? NO, =\n",
    "arcpy.CalculateField_management(\"RoadCenterline\", \"E_Score\", \n",
    "                                '!Slope!*!LENG_FT!', \"PYTHON3\", field_type = 'DOUBLE')"
   ]
  },
  {
   "cell_type": "markdown",
   "metadata": {},
   "source": [
    "## Create Network Dataset"
   ]
  },
  {
   "cell_type": "code",
   "execution_count": 12,
   "metadata": {},
   "outputs": [
    {
     "ename": "ExecuteError",
     "evalue": "ERROR 030222: The network dataset cannot be created from the given parameters.\nA network dataset with the specified name already exists.\nFailed to execute (CreateNetworkDataset).\n",
     "output_type": "error",
     "traceback": [
      "\u001b[0;31m---------------------------------------------------------------------------\u001b[0m\n\u001b[0;31mExecuteError\u001b[0m                              Traceback (most recent call last)",
      "In  \u001b[0;34m[12]\u001b[0m:\nLine \u001b[0;34m9\u001b[0m:     \u001b[33m\"\u001b[39;49;00m\u001b[33mELEVATION_FIELDS\u001b[39;49;00m\u001b[33m\"\u001b[39;49;00m)\n",
      "File \u001b[0;34mC:\\Program Files\\ArcGIS\\Pro\\Resources\\ArcPy\\arcpy\\na.py\u001b[0m, in \u001b[0;32mCreateNetworkDataset\u001b[0m:\nLine \u001b[0;34m4822\u001b[0m:  \u001b[34mraise\u001b[39;49;00m e\n",
      "File \u001b[0;34mC:\\Program Files\\ArcGIS\\Pro\\Resources\\ArcPy\\arcpy\\na.py\u001b[0m, in \u001b[0;32mCreateNetworkDataset\u001b[0m:\nLine \u001b[0;34m4819\u001b[0m:  retval = convertArcObjectToPythonObject(gp.CreateNetworkDataset_na(*gp_fixargs((feature_dataset, out_name, source_feature_class_names, elevation_model), \u001b[34mTrue\u001b[39;49;00m)))\n",
      "File \u001b[0;34mC:\\Program Files\\ArcGIS\\Pro\\Resources\\ArcPy\\arcpy\\geoprocessing\\_base.py\u001b[0m, in \u001b[0;32m<lambda>\u001b[0m:\nLine \u001b[0;34m511\u001b[0m:   \u001b[34mreturn\u001b[39;49;00m \u001b[34mlambda\u001b[39;49;00m *args: val(*gp_fixargs(args, \u001b[34mTrue\u001b[39;49;00m))\n",
      "\u001b[0;31mExecuteError\u001b[0m: ERROR 030222: The network dataset cannot be created from the given parameters.\nA network dataset with the specified name already exists.\nFailed to execute (CreateNetworkDataset).\n\n\u001b[0;31m---------------------------------------------------------------------------\u001b[0m"
     ]
    }
   ],
   "source": [
    "#reset workspace\n",
    "arcpy.env.workspace = 'C:\\\\Users\\\\Cole\\\\Documents\\\\GitHub\\\\GIS5572\\\\SemProj\\\\Notebooks\\\\StreetsProject.gdb'\n",
    "#arcpy.CopyFeatures_management(\"Networks2\\\\RoadCenterline\", \"Networks2\\\\AllRoads\")\n",
    "\n",
    "# create a new nework dataset from the RoadCenterline layer\n",
    "#(that now contains a few calculated attributes)\n",
    "arcpy.na.CreateNetworkDataset(r\"Networks2\", \n",
    "                              \"All_ND\", \"RoadCenterline\", \n",
    "                              \"ELEVATION_FIELDS\")\n",
    "#build the network so that it exists\n",
    "arcpy.na.BuildNetwork('Networks2\\All_ND')"
   ]
  },
  {
   "cell_type": "markdown",
   "metadata": {},
   "source": [
    "## Create TravelMode (manually overrode)"
   ]
  },
  {
   "cell_type": "code",
   "execution_count": 120,
   "metadata": {},
   "outputs": [],
   "source": [
    "#Current Travel Mode Features\n",
    "\n",
    "#Travel Mode Name: Walking Test\n",
    "#Impedence = Energy\n",
    "#Distance = meter\n",
    "\n",
    "\n",
    "arcpy.env.workspace = 'C:\\\\Users\\\\Cole\\\\Documents\\\\GitHub\\\\GIS5572\\\\SemProj\\\\Notebooks\\\\StreetsProject.gdb'\n",
    "\n",
    "\n",
    "\n",
    "\n",
    "# make a manual travel mode inside the network to call later\n",
    "\n",
    "\n",
    "nd_travel_modes = arcpy.nax.GetTravelModes('Networks2\\All_ND')\n",
    "\n",
    "#select travel mode    \n",
    "travel_mode = nd_travel_modes[\"Walking Test\"]\n",
    "\n",
    "#called Walking Test\n",
    "#arcpy.na.BuildNetwork('Networks2\\All_ND')"
   ]
  },
  {
   "cell_type": "code",
   "execution_count": null,
   "metadata": {},
   "outputs": [],
   "source": [
    "'''from ARCPY documentation\n",
    "\n",
    "If a template is not specified or a value of None is used, \n",
    "a blank TravelMode object will be created, \n",
    "and the values of all properties must be explicitly set before using \n",
    "the travel mode in a network analysis.\n",
    "\n",
    "attributeParameters = \n",
    "\n",
    "Lists the parameterized attributes used by the travel mode. \n",
    "The property is a dictionary. \n",
    "The dictionary key is a two-value tuple consisting of the attribute name and the parameter name. \n",
    "The value for each item in the dictionary is the parameter value. \n",
    "An empty dictionary means the travel mode uses the current default parameters of the network dataset.\n",
    "\n",
    "\n",
    "Parameterized network attributes are used to model some dynamic aspect of an attributes value. \n",
    "For example, a tunnel with a height restriction of 12 feet can be modeled \n",
    "using a parameter. A vehicles height in feet can be specified \n",
    "as the attribute parameter value. \n",
    "If the vehicle is taller than 12 feet, this restriction will evaluate\n",
    "to True, thereby restricting travel through the tunnel. \n",
    "Similarly, a bridge could have a parameter to specify a weight restriction.\n",
    "'''"
   ]
  },
  {
   "cell_type": "markdown",
   "metadata": {},
   "source": [
    "## Create ND_Layer "
   ]
  },
  {
   "cell_type": "code",
   "execution_count": 121,
   "metadata": {},
   "outputs": [
    {
     "data": {
      "text/html": [
       "<h2>Output</h2>a Layer object<h2>Messages</h2>Start Time: Thursday, April 29, 2021 1:58:58 PM<br/>Succeeded at Thursday, April 29, 2021 1:58:58 PM (Elapsed Time: 0.06 seconds)<br/><style>.rendered_html td, .rendered_html th {text-align: left;}.rendered_html tbody {border: 1px solid black;}</style>"
      ],
      "text/plain": [
       "<Result 'Working'>"
      ]
     },
     "execution_count": 121,
     "metadata": {},
     "output_type": "execute_result"
    }
   ],
   "source": [
    "#reset workspace\n",
    "arcpy.env.workspace = 'C:\\\\Users\\\\Cole\\\\Documents\\\\GitHub\\\\GIS5572\\\\SemProj\\\\Notebooks\\\\StreetsProject.gdb'\n",
    "\n",
    "#NDS is the new network dataset\n",
    "NDS = r'Networks2/All_ND'\n",
    "\n",
    "#ND_layer is only temprorary to allow faster processing, not saved to ROM \n",
    "ND_layer = 'Working'\n",
    "\n",
    "#input_stops = 'Networks2\\\\SourceModel'\n",
    "#output_routes = r'C:\\\\Users\\Cole\\Documents\\GitHub\\GIS5572\\SemProj\\Notebooks\\StreetsProject.gdb\\Result'\n",
    "\n",
    "#Create a newtork dataset layer from the NDS for faster processing\n",
    "arcpy.nax.MakeNetworkDatasetLayer(NDS, ND_layer)"
   ]
  },
  {
   "cell_type": "markdown",
   "metadata": {},
   "source": [
    "#### Everything works great up to here"
   ]
  },
  {
   "cell_type": "markdown",
   "metadata": {},
   "source": [
    "## Create Inputs Layer"
   ]
  },
  {
   "cell_type": "code",
   "execution_count": 122,
   "metadata": {},
   "outputs": [
    {
     "data": {
      "text/html": [
       "<h2>Output</h2>C:\\Users\\Cole\\Documents\\GitHub\\GIS5572\\SemProj\\Notebooks\\StreetsProject.gdb\\Networks2\\SourceModel<h2>Messages</h2>Start Time: Thursday, April 29, 2021 1:59:14 PM<br/>Succeeded at Thursday, April 29, 2021 1:59:16 PM (Elapsed Time: 1.25 seconds)<br/><style>.rendered_html td, .rendered_html th {text-align: left;}.rendered_html tbody {border: 1px solid black;}</style>"
      ],
      "text/plain": [
       "<Result 'C:\\\\Users\\\\Cole\\\\Documents\\\\GitHub\\\\GIS5572\\\\SemProj\\\\Notebooks\\\\StreetsProject.gdb\\\\Networks2\\\\SourceModel'>"
      ]
     },
     "execution_count": 122,
     "metadata": {},
     "output_type": "execute_result"
    }
   ],
   "source": [
    "#reset workspace\n",
    "arcpy.env.workspace = 'C:\\\\Users\\\\Cole\\\\Documents\\\\GitHub\\\\GIS5572\\\\SemProj\\\\Notebooks\\\\StreetsProject.gdb'\n",
    "\n",
    "#find spatial ref for OG RoadCenterline\n",
    "spatial_ref = arcpy.Describe(\"Networks2\\\\RoadCenterline\").spatialReference\n",
    "\n",
    "#create a new point feature class using the spatial reference\n",
    "arcpy.CreateFeatureclass_management(\"Networks2\",\"SourceModel\", \"POINT\",\n",
    "                                   spatial_reference = spatial_ref)\n",
    "\n"
   ]
  },
  {
   "cell_type": "markdown",
   "metadata": {},
   "source": [
    "## Add Facilities/Stops to Inputs Layer"
   ]
  },
  {
   "cell_type": "code",
   "execution_count": 123,
   "metadata": {},
   "outputs": [],
   "source": [
    "\n",
    "\n",
    "# Note: this is AFTER travel modes so don't have to redo every time if executing lineraly \n",
    "#reset workspace\n",
    "arcpy.env.workspace = 'C:\\\\Users\\\\Cole\\\\Documents\\\\GitHub\\\\GIS5572\\\\SemProj\\\\Notebooks\\\\StreetsProject.gdb\\\\Networks2'\n",
    "\n",
    "# Select new point feature class\n",
    "feature_class_source = \"SourceModel\"\n",
    "\n",
    "start = arcpy.Point(479979.19, 4976268.77)\n",
    "end = arcpy.Point(486014.32, 4975660.82)\n",
    "\n",
    "#use a new cursor to insert the coordinates\n",
    "cursor = arcpy.da.InsertCursor(feature_class_source,\"SHAPE@XY\")\n",
    "cursor.insertRow([start])\n",
    "cursor.insertRow([end])\n",
    "del cursor"
   ]
  },
  {
   "cell_type": "markdown",
   "metadata": {},
   "source": [
    "## Initialize Route Solver"
   ]
  },
  {
   "cell_type": "code",
   "execution_count": 124,
   "metadata": {},
   "outputs": [],
   "source": [
    "## Instantiate a Route solver object\n",
    "route = arcpy.nax.Route(ND_layer)"
   ]
  },
  {
   "cell_type": "markdown",
   "metadata": {},
   "source": [
    "## Set Route Solver properties"
   ]
  },
  {
   "cell_type": "code",
   "execution_count": 125,
   "metadata": {},
   "outputs": [],
   "source": [
    "#issue doesn't seem to be here, the GUI does the same thing \n",
    "\n",
    "nd_travel_modes = arcpy.nax.GetTravelModes(ND_layer)\n",
    "travel_mode = nd_travel_modes[\"Walking Test\"]\n",
    "route.travelMode = travel_mode\n",
    "\n",
    "#set network properties\n",
    "route.timeUnits = arcpy.nax.TimeUnits.Minutes\n",
    "route.accumulateAttributeNames = [\"Energy\"]\n",
    "#route.directionsDistanceUnits = \n",
    "#route.distanceUnits =\n",
    "#route.networkDataSource =\n",
    "#route.returnDirections =\n",
    "#route.searchTolerance = 5000\n",
    "#route.searchToleranceUnits = arcpy.nax.DistanceUnits.Meters"
   ]
  },
  {
   "cell_type": "markdown",
   "metadata": {},
   "source": [
    "## Load Inputs Layer"
   ]
  },
  {
   "cell_type": "code",
   "execution_count": 126,
   "metadata": {},
   "outputs": [],
   "source": [
    "#reset workspace\n",
    "arcpy.env.workspace = 'C:\\\\Users\\\\Cole\\\\Documents\\\\GitHub\\\\GIS5572\\\\SemProj\\\\Notebooks\\\\StreetsProject.gdb\\\\Networks2'\n",
    "\n",
    "route.load(arcpy.nax.RouteInputDataType.Stops, 'SourceModel')\n",
    "#output_path = 'Networks2\\\\OutputRoute'"
   ]
  },
  {
   "cell_type": "markdown",
   "metadata": {},
   "source": [
    "## Solve the Route Solver"
   ]
  },
  {
   "cell_type": "code",
   "execution_count": 127,
   "metadata": {},
   "outputs": [],
   "source": [
    "#excecute the route solve\n",
    "arcpy.env.workspace = 'C:\\\\Users\\\\Cole\\\\Documents\\\\GitHub\\\\GIS5572\\\\SemProj\\\\Notebooks\\\\StreetsProject.gdb'\n",
    "\n",
    "output_path = 'Networks2\\\\Least_E_Route'\n",
    "\n",
    "result = route.solve()\n",
    "\n",
    "#error checker\n",
    "if result.solveSucceeded:\n",
    "    result.export(arcpy.nax.RouteOutputDataType.Routes, output_path)\n",
    "else:\n",
    "    print(\"Solved failed\")\n",
    "    print(result.solverMessages(arcpy.nax.MessageSeverity.All)) "
   ]
  },
  {
   "cell_type": "code",
   "execution_count": 128,
   "metadata": {},
   "outputs": [
    {
     "data": {
      "text/html": [
       "<h2>Output</h2>true<h2>Messages</h2>Start Time: Thursday, April 29, 2021 1:59:44 PM<br/>Succeeded at Thursday, April 29, 2021 1:59:44 PM (Elapsed Time: 0.03 seconds)<br/><style>.rendered_html td, .rendered_html th {text-align: left;}.rendered_html tbody {border: 1px solid black;}</style>"
      ],
      "text/plain": [
       "<Result 'true'>"
      ]
     },
     "execution_count": 128,
     "metadata": {},
     "output_type": "execute_result"
    }
   ],
   "source": [
    "#run to delete start/end points layer, SourceModel\n",
    "arcpy.env.workspace = 'C:\\\\Users\\\\Cole\\\\Documents\\\\GitHub\\\\GIS5572\\\\SemProj\\\\Notebooks\\\\StreetsProject.gdb\\\\Networks2'\n",
    "arcpy.management.Delete(r\"SourceModel\")"
   ]
  },
  {
   "cell_type": "markdown",
   "metadata": {},
   "source": [
    "## Depreciated Model/OLD"
   ]
  },
  {
   "cell_type": "code",
   "execution_count": null,
   "metadata": {},
   "outputs": [],
   "source": [
    "#depreciated\n",
    "\n",
    "\n",
    "#selected manually in ArcPro: GrandAveTest roads set\n",
    "\n",
    "arcpy.CopyFeatures_management(\"RoadCenterline\", \"Networks2\\AllRoads\")\n",
    "arcpy.na.CreateNetworkDataset(r\"Networks\", \n",
    "                              \"All_ND\", \"AllRoads\", \n",
    "                              \"ELEVATION_FIELDS\")\n",
    "\n",
    "arcpy.na.BuildNetwork('Networks\\Test_ND')\n",
    "arcpy.na.BuildNetwork('Networks\\All_ND')\n",
    "\n",
    "#depreciated*****\n",
    "\n",
    "#NAX module\n",
    "## Source Settings\n",
    "    ## Vertical connect.\n",
    "## Travel Attributes\n",
    "    ## Travel Modes: create one for walking, one for wheelchair\n",
    "    ## Costs: Energy_Cost = E_score (assign at different quadratic?)\n",
    "        ## wheelchair energy cost increases faster,\n",
    "        ## but has a lower slope limit than person (.12% slope vs .3% slope),\n",
    "        # and slightly higher power limit (say, 450 W vs 400 W)\n",
    "    ## Restrictions: avoid energy cost, high\n",
    "## Directions\n",
    "    ## Support Directions:checked\n",
    "    ## Field mapping: full name to ST_name\n",
    "    \n",
    "arcpy.na.BuildNetwork('Networks\\Test_ND')\n",
    "arcpy.na.BuildNetwork('Networks\\All_ND')\n",
    "\n",
    "#depreciated**********\n",
    "\n",
    "def routelayers(network, output, mode):\n",
    "    arcpy.env.workspace = 'C:\\\\Users\\\\Cole\\\\Documents\\\\GitHub\\\\GIS5572\\\\SemProj\\\\Notebooks\\\\StreetsProject.gdb\\\\Networks'\n",
    "   \n",
    "    #create a route analysis layer\n",
    "    result_object = arcpy.na.MakeRouteAnalysisLayer(network, output, mode,\"PRESERVE_BOTH\")\n",
    "   \n",
    "    #grab the route layer object from the result object layer\n",
    "    layer_object = result_object.getOutput(0)\n",
    "    \n",
    "    # add locations from SourceModel to the route layer object as Stops\n",
    "    arcpy.na.AddLocations(layer_object, \"Stops\", \"SourceModel\")\n",
    "    \n",
    "    \n",
    "    #some network modify commands take pl\n",
    "    \n",
    "    \n",
    "    arcpy.na.Solve(layer_object)\n",
    "    layer_object.saveACopy(\"C:\\\\Users\\\\Cole\\\\Documents\\\\GitHub\\\\GIS5572\\\\SemProj\\\\Output\\\\\"+output)\n",
    "    \n",
    "routelayers(\"All_ND\", \"Walking\", \"Walking\")\n",
    "routelayers(\"All_ND\", \"Wheelchair\", \"Wheelchair\")"
   ]
  }
 ],
 "metadata": {
  "kernelspec": {
   "display_name": "ArcGISPro",
   "language": "Python",
   "name": "python3"
  },
  "language_info": {
   "file_extension": ".py",
   "name": "python",
   "version": "3"
  }
 },
 "nbformat": 4,
 "nbformat_minor": 4
}
