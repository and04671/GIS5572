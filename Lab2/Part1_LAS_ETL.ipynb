{
 "cells": [
  {
   "cell_type": "markdown",
   "metadata": {},
   "source": [
    "## LAS Files"
   ]
  },
  {
   "cell_type": "markdown",
   "metadata": {},
   "source": [
    "a.\tDownloads .LAS files from MN DNR [1] "
   ]
  },
  {
   "cell_type": "markdown",
   "metadata": {},
   "source": [
    "[1] DNR FTP server: https://resources.gisdata.mn.gov/pub/data/elevation/lidar/ -- I recommend using their example .las datasets as they’re more reasonably sized."
   ]
  },
  {
   "cell_type": "code",
   "execution_count": 2,
   "metadata": {
    "scrolled": false
   },
   "outputs": [],
   "source": [
    "import requests\n",
    "response = requests.get(\"https://resources.gisdata.mn.gov/pub/data/elevation/lidar/examples/lidar_sample/las/4342-12-05.las\")\n",
    "#print(response)\n",
    "with open('filename.las', 'wb') as f:\n",
    "                f.write(response.content)  \n",
    "                f.close()\n",
    "#download .las file using FTP\n",
    "#takes about 5 minutes, be patient."
   ]
  },
  {
   "cell_type": "markdown",
   "metadata": {},
   "source": [
    "b.\tConverts the .LAS file into both a DEM and a TIN"
   ]
  },
  {
   "cell_type": "markdown",
   "metadata": {},
   "source": [
    "c.\tSaves the new DEM and TIN to disk"
   ]
  },
  {
   "cell_type": "code",
   "execution_count": 1,
   "metadata": {},
   "outputs": [
    {
     "data": {
      "text/html": [
       "<h2>Output</h2>C://Users/Cole/Documents/GitHub/GIS5572/Lab2\\RASoutput<h2>Messages</h2>Start Time: Sunday, February 14, 2021 12:00:12 PM<br/>Succeeded at Sunday, February 14, 2021 12:00:15 PM (Elapsed Time: 3.07 seconds)<br/><style>.rendered_html td, .rendered_html th {text-align: left;}.rendered_html tbody {border: 1px solid black;}</style>"
      ],
      "text/plain": [
       "<Result 'C://Users/Cole/Documents/GitHub/GIS5572/Lab2\\\\RASoutput'>"
      ]
     },
     "execution_count": 1,
     "metadata": {},
     "output_type": "execute_result"
    }
   ],
   "source": [
    "import arcpy\n",
    "in_las = 'filename.las'\n",
    "arcpy.env.workspace = 'C://Users/Cole/Documents/GitHub/GIS5572/Lab2'\n",
    "arcpy.LasDatasetToTin_3d(in_las,'TINoutput', thinning_type = 'RANDOM', thinning_method = \"PERCENT\", thinning_value = 30)\n",
    "#confirmed, creates TIN that looks right in ArcPro in same folder as notebook\n",
    "# ''It is not possible to create TIN's in a geodatabase'' \n",
    "#this explicitly forces the raster into the Lab2 folder and not the GDB\n",
    "arcpy.conversion.LasDatasetToRaster(in_las,'RASoutput','ELEVATION')\n",
    "# ahHA, now i've saved it to the right level"
   ]
  },
  {
   "cell_type": "markdown",
   "metadata": {},
   "source": [
    "d.\tExports PDFs of the DEM and TIN with correct visualization"
   ]
  },
  {
   "cell_type": "code",
   "execution_count": 5,
   "metadata": {},
   "outputs": [],
   "source": [
    "#export DEM and TIN to pdf with correct visualization"
   ]
  },
  {
   "cell_type": "code",
   "execution_count": 25,
   "metadata": {},
   "outputs": [
    {
     "data": {
      "text/plain": [
       "'RAS_PDF.pdf'"
      ]
     },
     "execution_count": 25,
     "metadata": {},
     "output_type": "execute_result"
    }
   ],
   "source": [
    "import arcpy\n",
    "aprx_file = arcpy.mp.ArcGISProject('CURRENT')\n",
    "map_in_aprx = aprx_file.listMaps(\"Map1\")[0]\n",
    "TopLayer = map_in_aprx.listLayers(\"TINoutput\")\n",
    "# ArcPro Step Here, create a layout for both the TIN and RAS\n",
    "Layout1 = aprx_file.listLayouts()[0]\n",
    "Layout1.exportToPDF(r\"TIN_PDF\")\n",
    "map_in_aprx.removeLayer(map_in_aprx.listLayers()[0])\n",
    "Layout2 = aprx_file.listLayouts()[0]\n",
    "Layout2.exportToPDF(r\"RAS_PDF\")\n",
    "#works!"
   ]
  },
  {
   "cell_type": "code",
   "execution_count": null,
   "metadata": {},
   "outputs": [],
   "source": []
  },
  {
   "cell_type": "code",
   "execution_count": null,
   "metadata": {},
   "outputs": [],
   "source": []
  }
 ],
 "metadata": {
  "kernelspec": {
   "display_name": "Python 3",
   "language": "python",
   "name": "python3"
  },
  "language_info": {
   "codemirror_mode": {
    "name": "ipython",
    "version": 3
   },
   "file_extension": ".py",
   "mimetype": "text/x-python",
   "name": "python",
   "nbconvert_exporter": "python",
   "pygments_lexer": "ipython3",
   "version": "3.6.10"
  }
 },
 "nbformat": 4,
 "nbformat_minor": 2
}
