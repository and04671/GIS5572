{
 "cells": [
  {
   "cell_type": "markdown",
   "metadata": {},
   "source": [
    "# Lab 2: Cost Surfaces"
   ]
  },
  {
   "cell_type": "markdown",
   "metadata": {},
   "source": [
    "### Step 1: Download required data\n",
    "1. Request required data\n",
    "2. Save and unzip to file\n",
    "\n",
    "### Step 2: Clip data\n",
    "1. Establish boundaries\n",
    "2. Clip data\n",
    "\n",
    "### Step 3: Create cost accumulation surface\n",
    "1. Reclassify component rasters\n",
    "2. Add rasters together\n",
    "\n",
    "### Step 4: Create source and destination rasters\n",
    "1. Create point feature classes\n",
    "2. Add defined points to feature classes\n",
    "\n",
    "### Step 5: Calculate distance accumulation function and backlink raster\n",
    "1. Both use source raster and cost surface\n",
    "\n",
    "### Step 6: Calculate optimal path function"
   ]
  },
  {
   "cell_type": "markdown",
   "metadata": {},
   "source": [
    "Details:\n",
    "1.\tCreate ETL for data to go into cost surface model\n",
    "2.\tCreate cost surface model and justify how you created cost surface\n",
    "3.\tMap optimal path from two points over the constructed cost surface\n",
    "4. (44.127985, -92.148796) to North Picnic area (44.05438888888889 -92.04483333333333)\n",
    "\n",
    "Specific preferences: \n",
    "1. Not walk through any farm fields\n",
    "2. Doesn’t like crossing water bodies if no bridge\n",
    "3. Needs path that is the most gradual slopewise\n"
   ]
  },
  {
   "cell_type": "markdown",
   "metadata": {},
   "source": [
    "## Step 1: DOWNLOAD DATA"
   ]
  },
  {
   "cell_type": "code",
   "execution_count": 21,
   "metadata": {},
   "outputs": [
    {
     "name": "stderr",
     "output_type": "stream",
     "text": [
      "C:\\Program Files\\ArcGIS\\Pro\\bin\\Python\\envs\\arcgispro-py3\\lib\\site-packages\\urllib3\\connectionpool.py:1004: InsecureRequestWarning: Unverified HTTPS request is being made to host 'gisdata.mn.gov'. Adding certificate verification is strongly advised. See: https://urllib3.readthedocs.io/en/latest/advanced-usage.html#ssl-warnings\n",
      "  InsecureRequestWarning,\n"
     ]
    },
    {
     "name": "stdout",
     "output_type": "stream",
     "text": [
      "https://resources.gisdata.mn.gov/pub/gdrs/data/pub/us_mn_state_dnr/elev_30m_digital_elevation_model/fgdb_elev_30m_digital_elevation_model.zip\n",
      "Complete. Check notebook folder\n"
     ]
    },
    {
     "name": "stderr",
     "output_type": "stream",
     "text": [
      "C:\\Program Files\\ArcGIS\\Pro\\bin\\Python\\envs\\arcgispro-py3\\lib\\site-packages\\urllib3\\connectionpool.py:1004: InsecureRequestWarning: Unverified HTTPS request is being made to host 'gisdata.mn.gov'. Adding certificate verification is strongly advised. See: https://urllib3.readthedocs.io/en/latest/advanced-usage.html#ssl-warnings\n",
      "  InsecureRequestWarning,\n"
     ]
    },
    {
     "name": "stdout",
     "output_type": "stream",
     "text": [
      "https://resources.gisdata.mn.gov/pub/gdrs/data/pub/us_mn_state_mda/agri_cropland_data_layer_2018/fgdb_agri_cropland_data_layer_2018.zip\n",
      "Complete. Check notebook folder\n"
     ]
    }
   ],
   "source": [
    "# DEM: https://gisdata.mn.gov/dataset/elev-30m-digital-elevation-model\n",
    "# Crop Area: https://gisdata.mn.gov/dataset/agri-cropland-data-layer-2018\n",
    "#crop area has water on it!\n",
    "import requests, json, zipfile\n",
    "import json\n",
    "import zipfile\n",
    "\n",
    "def CKAN_retrieval(search_query, result_num, resource_num): \n",
    "    \n",
    "#call API to search packages with search query\n",
    "    big_url = 'https://gisdata.mn.gov/api/3/action/package_search?q=' + search_query\n",
    "    \n",
    "#send a request to the API address, do not verify security\n",
    "    response = requests.get(big_url, verify = False)\n",
    "    \n",
    "#turn result into JSON dictionary\n",
    "    json_response = json.loads(response.content)\n",
    "    \n",
    "#dig down through dictionary layers to find the right resource\n",
    "    result_options = json_response['result']['results']\n",
    "    chosen_result = result_options[result_num]\n",
    "    resources_under_result= chosen_result['resources'][resource_num]\n",
    "    chosen_resource = resources_under_result['url']\n",
    "    print(chosen_resource)\n",
    "    URL_request = requests.get(chosen_resource)\n",
    "    \n",
    "# define a save file name and write data to it, close file \n",
    "    save_path = search_query[0:8] + \".zip\"\n",
    "    with open(save_path, 'wb') as f:\n",
    "        f.write(URL_request.content)\n",
    "        f.close()\n",
    "        \n",
    "#unzip the file into the same directory \n",
    "    with zipfile.ZipFile(save_path,\"r\") as zip_ref:\n",
    "        zip_ref.extractall()\n",
    "    print('Complete')\n",
    "    \n",
    "#function calls \n",
    "CKAN_retrieval('elev-30m-digital-elevation-model',0,1)\n",
    "CKAN_retrieval('agri-cropland-data-layer-2018',0,1)"
   ]
  },
  {
   "cell_type": "markdown",
   "metadata": {},
   "source": [
    "## Step 2: CLIP DATA"
   ]
  },
  {
   "cell_type": "code",
   "execution_count": 9,
   "metadata": {
    "scrolled": true
   },
   "outputs": [
    {
     "data": {
      "text/html": [
       "<h2>Output</h2>Lab2.gdb\\Clip_DEM<h2>Messages</h2>Start Time: Thursday, February 25, 2021 10:00:36 PM<br/>Building Pyramids...<br/>Succeeded at Thursday, February 25, 2021 10:00:37 PM (Elapsed Time: 0.84 seconds)<br/><style>.rendered_html td, .rendered_html th {text-align: left;}.rendered_html tbody {border: 1px solid black;}</style>"
      ],
      "text/plain": [
       "<Result 'Lab2.gdb\\\\Clip_DEM'>"
      ]
     },
     "execution_count": 9,
     "metadata": {},
     "output_type": "execute_result"
    }
   ],
   "source": [
    "import arcpy\n",
    "\n",
    "# define a clip extent\n",
    "clip = \"560000 4850000 600000 4900000\"\n",
    "\n",
    "# clip each layer by clip extent and save output to Clip_xxx\n",
    "arcpy.Clip_management(\"agri_cropland_data_layer_2018.gdb/agri_cropland_data_layer_2018\",\n",
    "                      clip, \"Lab2.gdb/Clip_Ag_Wtr\")\n",
    "arcpy.Clip_management(\"elev_30m_digital_elevation_model.gdb/digital_elevation_model_30m\",\n",
    "                      clip, \"Lab2.gdb/Clip_DEM\")"
   ]
  },
  {
   "cell_type": "markdown",
   "metadata": {},
   "source": [
    "## Step 3: CREATE ACCUMULATION SURFACE"
   ]
  },
  {
   "cell_type": "code",
   "execution_count": 2,
   "metadata": {},
   "outputs": [],
   "source": [
    "##### turns clipped files into merged cost accumulation surface\n",
    "import arcpy\n",
    "from arcpy.sa import *\n",
    "#the DEM needs to be turned to slope and rescaled\n",
    "\n",
    "# re-establish workspace\n",
    "arcpy.env.workspace = \"C://Users/Cole/Documents/GitHub/GIS5572/Lab2/Lab2.gdb\"\n",
    "\n",
    "#create a slope raster from the clipped elevation model\n",
    "#the other raster will be standardized to this\n",
    "#wait a sec, this might yeild negative values, which error later\n",
    "arcpy.Slope_3d(\"Clip_DEM\", \"Slope\")\n",
    "#arcpy.Rescale\n",
    "\n",
    "#reclassify\n",
    "\n",
    "#standardize the agriculture/water layer\n",
    "#values: 1-71, 205-246 are crops, unsuitable\n",
    "#values: 111 are water, unsuitalbe\n",
    "#values 72-110, 112-204 are suitable\n",
    "#remap as 1 and 100\n",
    "class1 = arcpy.sa.Reclassify(\"Clip_Ag_Wtr\", \"VALUE\", RemapRange([[0, 72, 100],[205, 247, 100],[110,115,100],[72,110,1],[115,204,1]]))\n",
    "class1.save(\"Ag_Wtr_Reclass\")\n",
    "#add the weighted, standardized rasters together to create a cost/accumulation surface\n",
    "merged_raster = Raster(\"Ag_Wtr_Reclass\") + Raster(\"Slope\")\n",
    "merged_raster.save(\"Merged_Surface\")"
   ]
  },
  {
   "cell_type": "markdown",
   "metadata": {},
   "source": [
    "## Step 4: CREATE SOURCE/DEST FEATURE CLASSES"
   ]
  },
  {
   "cell_type": "code",
   "execution_count": 11,
   "metadata": {},
   "outputs": [],
   "source": [
    "import arcpy\n",
    "\n",
    "arcpy.env.workspace = \"C://Users/Cole/Documents/GitHub/GIS5572/Lab2/Lab2.gdb\"\n",
    "\n",
    "#gather the spatial referenence from the cost surface\n",
    "spatial_ref = arcpy.Describe(\"Ag_Wtr_Reclass\").spatialReference\n",
    "\n",
    "#create a new feature class for the source point\n",
    "arcpy.CreateFeatureclass_management(\"Lab2.gdb\", \"SourcePoint\", \"POINT\",\n",
    "                                    spatial_reference = spatial_ref)\n",
    "\n",
    "#create a new feature class for the dest point\n",
    "arcpy.CreateFeatureclass_management(\"Lab2.gdb\", \"DestPoint\", \"POINT\",\n",
    "                                    spatial_reference = spatial_ref)\n",
    "\n",
    "#add a point to the new source feature class\n",
    "feature_class_sour = \"SourcePoint\"\n",
    "cursor = arcpy.da.InsertCursor(feature_class_sour,\"SHAPE@XY\")\n",
    "xy = arcpy.Point(568097.73, 4886440.22)\n",
    "cursor.insertRow([xy])\n",
    "del cursor\n",
    "\n",
    "#add a point to the new dest feature class\n",
    "feature_class_dest = \"DestPoint\"\n",
    "cursor = arcpy.da.InsertCursor(feature_class_dest,\"SHAPE@XY\")\n",
    "xy = arcpy.Point(576512.44, 4878357.35)\n",
    "cursor.insertRow([xy])\n",
    "del cursor"
   ]
  },
  {
   "cell_type": "markdown",
   "metadata": {},
   "source": [
    "## Step 5: DISTANCE ACCUMULATION FUNCTION + BACKLINK"
   ]
  },
  {
   "cell_type": "code",
   "execution_count": 3,
   "metadata": {},
   "outputs": [],
   "source": [
    "import arcpy\n",
    "from arcpy.sa import *\n",
    "\n",
    "arcpy.env.workspace = \"C://Users/Cole/Documents/GitHub/GIS5572/Lab2/Lab2.gdb\"\n",
    "\n",
    "#execute distance accumulation function with source raster and cost surface\n",
    "cost_surface = DistanceAccumulation(\"SourcePoint\", in_cost_raster = \"Merged_Surface\")\n",
    "\n",
    "#create a backlink raster using source raster and cost surface\n",
    "BackLink = CostBackLink(\"SourcePoint\", \"Merged_Surface\")"
   ]
  },
  {
   "cell_type": "markdown",
   "metadata": {},
   "source": [
    "## Step 6: OPTIMAL PATH FUNCTION"
   ]
  },
  {
   "cell_type": "code",
   "execution_count": 6,
   "metadata": {},
   "outputs": [
    {
     "name": "stdout",
     "output_type": "stream",
     "text": [
      "C://Users/Cole/Documents/GitHub/GIS5572/Lab2/Lab2.gdb\\paths3\n"
     ]
    }
   ],
   "source": [
    "import arcpy\n",
    "\n",
    "#execute optimal distance function using the distance accumulation, destination raster, and backlink\n",
    "x = OptimalPathAsLine(\"DestPoint\", \"Distanc_Sour1\", \"CostBac_Sour1\", \"paths3\")\n",
    "print(x)"
   ]
  },
  {
   "cell_type": "code",
   "execution_count": null,
   "metadata": {},
   "outputs": [],
   "source": []
  }
 ],
 "metadata": {
  "kernelspec": {
   "display_name": "Python 3",
   "language": "python",
   "name": "python3"
  },
  "language_info": {
   "codemirror_mode": {
    "name": "ipython",
    "version": 3
   },
   "file_extension": ".py",
   "mimetype": "text/x-python",
   "name": "python",
   "nbconvert_exporter": "python",
   "pygments_lexer": "ipython3",
   "version": "3.6.10"
  }
 },
 "nbformat": 4,
 "nbformat_minor": 4
}
