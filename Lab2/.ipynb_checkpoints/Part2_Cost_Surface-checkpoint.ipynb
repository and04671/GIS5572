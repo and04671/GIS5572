{
 "cells": [
  {
   "cell_type": "markdown",
   "metadata": {},
   "source": [
    "# Lab 2: Cost Surfaces"
   ]
  },
  {
   "cell_type": "markdown",
   "metadata": {},
   "source": [
    "Details:\n",
    "1.\tCreate ETL for data to go into cost surface model\n",
    "2.\tCreate cost surface model and justify how you created cost surface\n",
    "3.\tMap optimal path from two points over the constructed cost surface\n",
    "4. (44.127985, -92.148796) to North Picnic area (44.05438888888889 -92.04483333333333)\n",
    "\n",
    "Specific preferences: \n",
    "1. Not walk through any farm fields\n",
    "2. Doesn’t like crossing water bodies if no bridge\n",
    "3. Needs path that is the most gradual slopewise\n"
   ]
  },
  {
   "cell_type": "markdown",
   "metadata": {},
   "source": [
    "## Download Data"
   ]
  },
  {
   "cell_type": "code",
   "execution_count": 21,
   "metadata": {},
   "outputs": [
    {
     "name": "stderr",
     "output_type": "stream",
     "text": [
      "C:\\Program Files\\ArcGIS\\Pro\\bin\\Python\\envs\\arcgispro-py3\\lib\\site-packages\\urllib3\\connectionpool.py:1004: InsecureRequestWarning: Unverified HTTPS request is being made to host 'gisdata.mn.gov'. Adding certificate verification is strongly advised. See: https://urllib3.readthedocs.io/en/latest/advanced-usage.html#ssl-warnings\n",
      "  InsecureRequestWarning,\n"
     ]
    },
    {
     "name": "stdout",
     "output_type": "stream",
     "text": [
      "https://resources.gisdata.mn.gov/pub/gdrs/data/pub/us_mn_state_dnr/elev_30m_digital_elevation_model/fgdb_elev_30m_digital_elevation_model.zip\n",
      "Complete. Check notebook folder\n"
     ]
    },
    {
     "name": "stderr",
     "output_type": "stream",
     "text": [
      "C:\\Program Files\\ArcGIS\\Pro\\bin\\Python\\envs\\arcgispro-py3\\lib\\site-packages\\urllib3\\connectionpool.py:1004: InsecureRequestWarning: Unverified HTTPS request is being made to host 'gisdata.mn.gov'. Adding certificate verification is strongly advised. See: https://urllib3.readthedocs.io/en/latest/advanced-usage.html#ssl-warnings\n",
      "  InsecureRequestWarning,\n"
     ]
    },
    {
     "name": "stdout",
     "output_type": "stream",
     "text": [
      "https://resources.gisdata.mn.gov/pub/gdrs/data/pub/us_mn_state_mda/agri_cropland_data_layer_2018/fgdb_agri_cropland_data_layer_2018.zip\n",
      "Complete. Check notebook folder\n"
     ]
    }
   ],
   "source": [
    "# DEM: https://gisdata.mn.gov/dataset/elev-30m-digital-elevation-model\n",
    "# Crop Area: https://gisdata.mn.gov/dataset/agri-cropland-data-layer-2018\n",
    "#crop area has water on it!\n",
    "import requests, json, zipfile\n",
    "import json\n",
    "import zipfile\n",
    "\n",
    "def CKAN_retrieval(search_query, result_num, resource_num): \n",
    "    \n",
    "#call API to search packages with search query\n",
    "    big_url = 'https://gisdata.mn.gov/api/3/action/package_search?q=' + search_query\n",
    "    \n",
    "#send a request to the API address, do not verify security\n",
    "    response = requests.get(big_url, verify = False)\n",
    "    \n",
    "#turn result into JSON dictionary\n",
    "    json_response = json.loads(response.content)\n",
    "    \n",
    "#dig down through dictionary layers to find the right resource\n",
    "    result_options = json_response['result']['results']\n",
    "    chosen_result = result_options[result_num]\n",
    "    resources_under_result= chosen_result['resources'][resource_num]\n",
    "    chosen_resource = resources_under_result['url']\n",
    "    print(chosen_resource)\n",
    "    URL_request = requests.get(chosen_resource)\n",
    "    \n",
    "# define a save file name and write data to it, close file \n",
    "    save_path = search_query[0:8] + \".zip\"\n",
    "    with open(save_path, 'wb') as f:\n",
    "        f.write(URL_request.content)\n",
    "        f.close()\n",
    "        \n",
    "#unzip the file into the same directory \n",
    "    with zipfile.ZipFile(save_path,\"r\") as zip_ref:\n",
    "        zip_ref.extractall()\n",
    "    print('Complete')\n",
    "    \n",
    "#function calls \n",
    "CKAN_retrieval('elev-30m-digital-elevation-model',0,1)\n",
    "CKAN_retrieval('agri-cropland-data-layer-2018',0,1)"
   ]
  },
  {
   "cell_type": "markdown",
   "metadata": {},
   "source": [
    "## Module Imports"
   ]
  },
  {
   "cell_type": "code",
   "execution_count": 1,
   "metadata": {},
   "outputs": [],
   "source": [
    "#model builder version\n",
    "\n",
    "import arcpy\n",
    "from arcpy.sa import *\n",
    "\n",
    "# Check out any necessary licenses.\n",
    "arcpy.CheckOutExtension(\"3D\")\n",
    "arcpy.CheckOutExtension(\"spatial\")\n",
    "arcpy.CheckOutExtension(\"ImageAnalyst\")\n",
    "\n",
    "Lab2_gdb = \"C:\\\\Users\\\\Cole\\\\Documents\\\\GitHub\\\\GIS5572\\\\Lab2\\\\Lab2.gdb\"\n",
    "agri_cropland_data_layer_2018 = arcpy.Raster(\"C:\\\\Users\\\\Cole\\\\Documents\\\\GitHub\\\\GIS5572\\\\Lab2\\\\agri_cropland_data_layer_2018.gdb\\\\agri_cropland_data_layer_2018\")\n",
    "digital_elevation_model_30m = arcpy.Raster(\"C:\\\\Users\\\\Cole\\\\Documents\\\\GitHub\\\\GIS5572\\\\Lab2\\\\elev_30m_digital_elevation_model.gdb\\\\digital_elevation_model_30m\")"
   ]
  },
  {
   "cell_type": "markdown",
   "metadata": {},
   "source": [
    "## Reclassify"
   ]
  },
  {
   "cell_type": "code",
   "execution_count": 2,
   "metadata": {},
   "outputs": [],
   "source": [
    "# Process: Reclassify Ag/Water\n",
    "Rec_AG_WTR = \"C:\\\\Users\\\\Cole\\\\Documents\\\\GitHub\\\\GIS5572\\\\Lab2\\\\Lab2.gdb\\\\Rec_AG_WTR\"\n",
    "arcpy.ddd.Reclassify(in_raster=agri_cropland_data_layer_2018, reclass_field=\"VALUE\", remap=\"0 100;1 100;4 100;5 100;6 100;13 100;21 100;22 100;23 100;24 100;26 100;27 100;28 100;29 100;31 100;32 100;35 100;36 100;37 100;39 100;41 100;42 100;43 100;44 100;47 100;53 100;57 100;58 100;59 100;60 100;61 100;68 100;70 100;71 100;111 100;121 1;122 1;123 1;124 1;131 1;141 1;142 1;143 1;152 1;176 1;190 1;195 1;205 100;221 100;222 100;229 100;241 100;246 100\", out_raster=Rec_AG_WTR, missing_values=\"NODATA\")\n",
    "Rec_AG_WTR = arcpy.Raster(Rec_AG_WTR)\n",
    "\n",
    "# Process: Convert DEM to Slope\n",
    "Output_raster = \"C:\\\\Users\\\\Cole\\\\Documents\\\\GitHub\\\\GIS5572\\\\Lab2\\\\Lab2.gdb\\\\Slope_digita1\"\n",
    "arcpy.ddd.Slope(in_raster=digital_elevation_model_30m, out_raster=Output_raster, output_measurement=\"DEGREE\", z_factor=1, method=\"PLANAR\", z_unit=\"METER\")\n",
    "Output_raster = arcpy.Raster(Output_raster)\n",
    "\n",
    "# Process: Rescale Slope by Function\n",
    "Resc_SLOPE = \"C:\\\\Users\\\\Cole\\\\Documents\\\\GitHub\\\\GIS5572\\\\Lab2\\\\Lab2.gdb\\\\Resc_SLOPE\"\n",
    "Rescale_by_Function = Resc_SLOPE\n",
    "Resc_SLOPE = arcpy.sa.RescaleByFunction(in_raster=Output_raster, transformation_function=[[\"MSSMALL\", 1, \"\", 100, \"\", 1, 1, \"\"]], from_scale=1, to_scale=10)\n",
    "Resc_SLOPE.save(Rescale_by_Function)\n",
    "\n",
    "# Process: Add slope and ag/water rasters\n",
    "Surface = \"c:\\\\Users\\\\Cole\\\\documents\\\\GitHub\\\\GIS5572\\\\Lab2\\\\Lab2.gdb\\\\Surface\"\n",
    "Raster_Calculator = Surface\n",
    "Surface =  Rec_AG_WTR+ Resc_SLOPE\n",
    "Surface.save(Raster_Calculator)"
   ]
  },
  {
   "cell_type": "markdown",
   "metadata": {},
   "source": [
    "## Clip"
   ]
  },
  {
   "cell_type": "code",
   "execution_count": 4,
   "metadata": {},
   "outputs": [
    {
     "data": {
      "text/html": [
       "<h2>Output</h2>C:\\Users\\Cole\\Documents\\GitHub\\GIS5572\\Lab2\\Lab2.gdb\\Clip_Surface<h2>Messages</h2>Start Time: Monday, March 1, 2021 2:35:54 PM<br/>Building Pyramids...<br/>Succeeded at Monday, March 1, 2021 2:35:55 PM (Elapsed Time: 0.88 seconds)<br/><style>.rendered_html td, .rendered_html th {text-align: left;}.rendered_html tbody {border: 1px solid black;}</style>"
      ],
      "text/plain": [
       "<Result 'C:\\\\Users\\\\Cole\\\\Documents\\\\GitHub\\\\GIS5572\\\\Lab2\\\\Lab2.gdb\\\\Clip_Surface'>"
      ]
     },
     "execution_count": 4,
     "metadata": {},
     "output_type": "execute_result"
    }
   ],
   "source": [
    "#Clip Raster\n",
    "import arcpy\n",
    "\n",
    "# define a clip extent\n",
    "clip = \"560000 4850000 600000 4900000\"\n",
    "\n",
    "# clip each layer by clip extent and save output to Clip_xxx\n",
    "arcpy.Clip_management(\"Lab2.gdb\\\\Surface\", clip, \"Lab2.gdb\\\\Clip_Surface\")"
   ]
  },
  {
   "cell_type": "markdown",
   "metadata": {},
   "source": [
    "## Create Source and Destination Feature Layers"
   ]
  },
  {
   "cell_type": "code",
   "execution_count": 3,
   "metadata": {},
   "outputs": [],
   "source": [
    "#gather the spatial referenence from the cost surface\n",
    "spatial_ref = arcpy.Describe(\"Lab2.gdb\\\\Clip_Surface\").spatialReference\n",
    "\n",
    "#create a new feature class for the source point\n",
    "arcpy.CreateFeatureclass_management(\"Lab2.gdb\", \"SourceModel\", \"POINT\",\n",
    "                                    spatial_reference = spatial_ref)\n",
    "\n",
    "#create a new feature class for the dest point\n",
    "arcpy.CreateFeatureclass_management(\"Lab2.gdb\", \"DestModel\", \"POINT\",\n",
    "                                    spatial_reference = spatial_ref)\n",
    "\n",
    "#add a point to the new source feature class\n",
    "feature_class_sour = \"Lab2.gdb\\\\SourceModel\"\n",
    "cursor = arcpy.da.InsertCursor(feature_class_sour,\"SHAPE@XY\")\n",
    "xy = arcpy.Point(568097.73, 4886440.22)\n",
    "cursor.insertRow([xy])\n",
    "del cursor\n",
    "\n",
    "#add a point to the new dest feature class\n",
    "feature_class_dest = \"Lab2.gdb\\\\DestModel\"\n",
    "cursor = arcpy.da.InsertCursor(feature_class_dest,\"SHAPE@XY\")\n",
    "xy = arcpy.Point(576512.44, 4878357.35)\n",
    "cursor.insertRow([xy])\n",
    "del cursor"
   ]
  },
  {
   "cell_type": "markdown",
   "metadata": {},
   "source": [
    "## Distance Accumulation"
   ]
  },
  {
   "cell_type": "code",
   "execution_count": 8,
   "metadata": {},
   "outputs": [],
   "source": [
    "# Process: Distance Accumulation (Distance Accumulation) (sa)\n",
    "arcpy.env.workspace = \"C:\\\\Users\\\\Cole\\\\Documents\\\\GitHub\\\\GIS5572\\\\Lab2\\\\Lab2.gdb\"\n",
    "AccumSurface = arcpy.sa.DistanceAccumulation(in_source_data=\"SourceModel\",\n",
    "                              in_barrier_data=\"\",\n",
    "                              in_surface_raster=\"\",\n",
    "                              in_cost_raster=\"Clip_Surface\",\n",
    "                              out_back_direction_raster=\"BackRaster\",\n",
    "                              source_cost_multiplier=\"\",\n",
    "                              distance_method=\"PLANAR\")\n",
    "AccumSurface.save(\"AccumSurface\")\n",
    "BackRaster = arcpy.Raster(\"BackRaster\")"
   ]
  },
  {
   "cell_type": "markdown",
   "metadata": {},
   "source": [
    "## Optimal Path"
   ]
  },
  {
   "cell_type": "code",
   "execution_count": 10,
   "metadata": {},
   "outputs": [],
   "source": [
    "# Process: Optimal Path As Line \n",
    "arcpy.env.workspace =  \"C:\\\\Users\\\\Cole\\\\Documents\\\\GitHub\\\\GIS5572\\\\Lab2\\\\Lab2.gdb\"\n",
    "Path = arcpy.sa.OptimalPathAsLine(in_destination_data=\"DestModel\",\n",
    "                           in_distance_accumulation_raster= \"AccumSurface\",\n",
    "                           in_back_direction_raster=BackRaster,\n",
    "                           out_polyline_features= \"OutPolyline\",\n",
    "                           destination_field=\"ObjectID\",\n",
    "                           path_type=\"BEST_SINGLE\")\n",
    "#Path.save(\"Lab2.gdb\\\\OutPolyline\")"
   ]
  }
 ],
 "metadata": {
  "kernelspec": {
   "display_name": "Python 3",
   "language": "python",
   "name": "python3"
  },
  "language_info": {
   "codemirror_mode": {
    "name": "ipython",
    "version": 3
   },
   "file_extension": ".py",
   "mimetype": "text/x-python",
   "name": "python",
   "nbconvert_exporter": "python",
   "pygments_lexer": "ipython3",
   "version": "3.6.10"
  }
 },
 "nbformat": 4,
 "nbformat_minor": 4
}
