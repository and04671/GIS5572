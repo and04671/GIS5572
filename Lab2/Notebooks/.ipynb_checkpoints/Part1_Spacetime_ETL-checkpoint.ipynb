{
 "cells": [
  {
   "cell_type": "markdown",
   "metadata": {},
   "source": [
    "## Spacetime Cube and Animation"
   ]
  },
  {
   "cell_type": "markdown",
   "metadata": {},
   "source": [
    "a.\tDownloads the annual 30-Year Normals .bil files for precipitation from PRISM [2]"
   ]
  },
  {
   "cell_type": "markdown",
   "metadata": {},
   "source": [
    "[2] PRISM website: https://prism.oregonstate.edu/normals/"
   ]
  },
  {
   "cell_type": "code",
   "execution_count": 7,
   "metadata": {},
   "outputs": [],
   "source": [
    "import requests\n",
    "from ftplib import FTP\n",
    "from zipfile import ZipFile\n",
    "def FTPNormalsDownload(server_filename):\n",
    "    \n",
    "    ftp = FTP('prism.nacse.org')\n",
    "    #enter credentials\n",
    "    ftp.login(user = 'anonymous', passwd= 'and04671@umn.edu')\n",
    "    #navigate directories\n",
    "    ftp.cwd('normals_4km/ppt')\n",
    "    #establish local_filename as inside the PRISM ZIP folder\n",
    "    local_filename = open(server_filename, 'wb')\n",
    "    ftp.retrbinary('RETR '+ server_filename, local_filename.write)\n",
    "    #close the server and local_filename\n",
    "    ftp.close()\n",
    "    local_filename.close()\n",
    "# download and unzip for each normals file    \n",
    "for each in ['01','02','03','04','05','06','07','08','09','10','11','12']:\n",
    "        # the server file\n",
    "        desired_file = \"PRISM_ppt_30yr_normal_4kmM2_\"+each+\"_bil.zip\" \n",
    "        FTPNormalsDownload(desired_file)\n",
    "        with ZipFile(desired_file) as myzip: \n",
    "            myzip.extractall(path = 'PRISM_ZIPS')"
   ]
  },
  {
   "cell_type": "markdown",
   "metadata": {},
   "source": [
    "## MODEL VERSION"
   ]
  },
  {
   "cell_type": "code",
   "execution_count": 2,
   "metadata": {},
   "outputs": [],
   "source": [
    "import arcpy\n",
    "Lab2_gdb = \"C:\\\\Users\\\\Cole\\\\Documents\\\\GitHub\\\\GIS5572\\\\Lab2\\\\Lab2.gdb\"\n",
    "arcpy.env.workspace = \"C:\\\\Users\\\\Cole\\\\Documents\\\\GitHub\\\\GIS5572\\\\Lab2\"\n",
    "PRISM_01_bil = arcpy.Raster(\"PRISM_ZIPS\\\\PRISM_ppt_30yr_normal_4kmM2_01_bil.bil\")\n",
    "PRISM_02_bil = arcpy.Raster(\"PRISM_ZIPS\\\\PRISM_ppt_30yr_normal_4kmM2_02_bil.bil\")\n",
    "PRISM_03_bil = arcpy.Raster(\"PRISM_ZIPS\\\\PRISM_ppt_30yr_normal_4kmM2_03_bil.bil\")\n",
    "PRISM_04_bil = arcpy.Raster(\"PRISM_ZIPS\\\\PRISM_ppt_30yr_normal_4kmM2_04_bil.bil\")\n",
    "PRISM_05_bil = arcpy.Raster(\"PRISM_ZIPS\\\\PRISM_ppt_30yr_normal_4kmM2_05_bil.bil\")\n",
    "PRISM_06_bil = arcpy.Raster(\"PRISM_ZIPS\\\\PRISM_ppt_30yr_normal_4kmM2_06_bil.bil\")\n",
    "PRISM_07_bil = arcpy.Raster(\"PRISM_ZIPS\\\\PRISM_ppt_30yr_normal_4kmM2_07_bil.bil\")\n",
    "PRISM_08_bil = arcpy.Raster(\"PRISM_ZIPS\\\\PRISM_ppt_30yr_normal_4kmM2_08_bil.bil\")\n",
    "PRISM_09_bil = arcpy.Raster(\"PRISM_ZIPS\\\\PRISM_ppt_30yr_normal_4kmM2_09_bil.bil\")\n",
    "PRISM_10_bil = arcpy.Raster(\"PRISM_ZIPS\\\\PRISM_ppt_30yr_normal_4kmM2_10_bil.bil\")\n",
    "PRISM_11_bil = arcpy.Raster(\"PRISM_ZIPS\\\\PRISM_ppt_30yr_normal_4kmM2_11_bil.bil\")\n",
    "PRISM_12_bil = arcpy.Raster(\"PRISM_ZIPS\\\\PRISM_ppt_30yr_normal_4kmM2_12_bil.bil\")"
   ]
  },
  {
   "cell_type": "code",
   "execution_count": 20,
   "metadata": {},
   "outputs": [],
   "source": [
    "# Process: Create A Mosaic Dataset\n",
    "TestMosaic3 = arcpy.management.CreateMosaicDataset(in_workspace=Lab2_gdb, in_mosaicdataset_name=\"TestMosaic3\",\n",
    "coordinate_system=\"PROJCS['NAD_1983_UTM_Zone_15N',GEOGCS['GCS_North_American_1983',DATUM['D_North_American_1983',SPHEROID['GRS_1980',6378137.0,298.257222101]],PRIMEM['Greenwich',0.0],UNIT['Degree',0.0174532925199433]],PROJECTION['Transverse_Mercator'],PARAMETER['False_Easting',500000.0],PARAMETER['False_Northing',0.0],PARAMETER['Central_Meridian',-93.0],PARAMETER['Scale_Factor',0.9996],PARAMETER['Latitude_Of_Origin',0.0],UNIT['Meter',1.0]]\", num_bands=None, pixel_type=\"\", product_definition=\"NONE\", product_band_definitions=[])[0]"
   ]
  },
  {
   "cell_type": "code",
   "execution_count": 17,
   "metadata": {},
   "outputs": [
    {
     "data": {
      "text/html": [
       "<h2>Output</h2><h2>Messages</h2>Start Time: Monday, March 1, 2021 6:08:33 PM<br/>Successfully converted: C:\\Users\\Cole\\Documents\\GitHub\\GIS5572\\Lab2\\PRISM_ZIPS\\PRISM_ppt_30yr_normal_4kmM2_01_bil.bil To C:\\Users\\Cole\\Documents\\GitHub\\GIS5572\\Lab2\\Lab2.gdb\\PRISM_ppt_30yr_normal_4kmM2_01_bil<br/>Successfully converted: C:\\Users\\Cole\\Documents\\GitHub\\GIS5572\\Lab2\\PRISM_ZIPS\\PRISM_ppt_30yr_normal_4kmM2_02_bil.bil To C:\\Users\\Cole\\Documents\\GitHub\\GIS5572\\Lab2\\Lab2.gdb\\PRISM_ppt_30yr_normal_4kmM2_02_bil<br/>Successfully converted: C:\\Users\\Cole\\Documents\\GitHub\\GIS5572\\Lab2\\PRISM_ZIPS\\PRISM_ppt_30yr_normal_4kmM2_03_bil.bil To C:\\Users\\Cole\\Documents\\GitHub\\GIS5572\\Lab2\\Lab2.gdb\\PRISM_ppt_30yr_normal_4kmM2_03_bil<br/>Successfully converted: C:\\Users\\Cole\\Documents\\GitHub\\GIS5572\\Lab2\\PRISM_ZIPS\\PRISM_ppt_30yr_normal_4kmM2_04_bil.bil To C:\\Users\\Cole\\Documents\\GitHub\\GIS5572\\Lab2\\Lab2.gdb\\PRISM_ppt_30yr_normal_4kmM2_04_bil<br/>Successfully converted: C:\\Users\\Cole\\Documents\\GitHub\\GIS5572\\Lab2\\PRISM_ZIPS\\PRISM_ppt_30yr_normal_4kmM2_05_bil.bil To C:\\Users\\Cole\\Documents\\GitHub\\GIS5572\\Lab2\\Lab2.gdb\\PRISM_ppt_30yr_normal_4kmM2_05_bil<br/>Successfully converted: C:\\Users\\Cole\\Documents\\GitHub\\GIS5572\\Lab2\\PRISM_ZIPS\\PRISM_ppt_30yr_normal_4kmM2_06_bil.bil To C:\\Users\\Cole\\Documents\\GitHub\\GIS5572\\Lab2\\Lab2.gdb\\PRISM_ppt_30yr_normal_4kmM2_06_bil<br/>Successfully converted: C:\\Users\\Cole\\Documents\\GitHub\\GIS5572\\Lab2\\PRISM_ZIPS\\PRISM_ppt_30yr_normal_4kmM2_07_bil.bil To C:\\Users\\Cole\\Documents\\GitHub\\GIS5572\\Lab2\\Lab2.gdb\\PRISM_ppt_30yr_normal_4kmM2_07_bil<br/>Successfully converted: C:\\Users\\Cole\\Documents\\GitHub\\GIS5572\\Lab2\\PRISM_ZIPS\\PRISM_ppt_30yr_normal_4kmM2_08_bil.bil To C:\\Users\\Cole\\Documents\\GitHub\\GIS5572\\Lab2\\Lab2.gdb\\PRISM_ppt_30yr_normal_4kmM2_08_bil<br/>Successfully converted: C:\\Users\\Cole\\Documents\\GitHub\\GIS5572\\Lab2\\PRISM_ZIPS\\PRISM_ppt_30yr_normal_4kmM2_09_bil.bil To C:\\Users\\Cole\\Documents\\GitHub\\GIS5572\\Lab2\\Lab2.gdb\\PRISM_ppt_30yr_normal_4kmM2_09_bil<br/>Successfully converted: C:\\Users\\Cole\\Documents\\GitHub\\GIS5572\\Lab2\\PRISM_ZIPS\\PRISM_ppt_30yr_normal_4kmM2_10_bil.bil To C:\\Users\\Cole\\Documents\\GitHub\\GIS5572\\Lab2\\Lab2.gdb\\PRISM_ppt_30yr_normal_4kmM2_10_bil<br/>Successfully converted: C:\\Users\\Cole\\Documents\\GitHub\\GIS5572\\Lab2\\PRISM_ZIPS\\PRISM_ppt_30yr_normal_4kmM2_11_bil.bil To C:\\Users\\Cole\\Documents\\GitHub\\GIS5572\\Lab2\\Lab2.gdb\\PRISM_ppt_30yr_normal_4kmM2_11_bil<br/>Successfully converted: C:\\Users\\Cole\\Documents\\GitHub\\GIS5572\\Lab2\\PRISM_ZIPS\\PRISM_ppt_30yr_normal_4kmM2_12_bil.bil To C:\\Users\\Cole\\Documents\\GitHub\\GIS5572\\Lab2\\Lab2.gdb\\PRISM_ppt_30yr_normal_4kmM2_12_bil<br/>Succeeded at Monday, March 1, 2021 6:08:45 PM (Elapsed Time: 11.59 seconds)<br/><style>.rendered_html td, .rendered_html th {text-align: left;}.rendered_html tbody {border: 1px solid black;}</style>"
      ],
      "text/plain": [
       "<Result ''>"
      ]
     },
     "execution_count": 17,
     "metadata": {},
     "output_type": "execute_result"
    }
   ],
   "source": [
    "# Process: Convert Rasters to TIFF\n",
    "arcpy.conversion.RasterToOtherFormat(Input_Rasters=[PRISM_01_bil, PRISM_02_bil, PRISM_03_bil,\n",
    "                                                                               PRISM_04_bil, PRISM_05_bil, PRISM_06_bil,\n",
    "                                                                               PRISM_07_bil, PRISM_08_bil, PRISM_09_bil,\n",
    "                                                                               PRISM_10_bil, PRISM_11_bil, PRISM_12_bil],\n",
    "                                                                               Output_Workspace=\"Lab2.gdb\",\n",
    "                                                                               Raster_Format=\"TIFF\")"
   ]
  },
  {
   "cell_type": "code",
   "execution_count": 21,
   "metadata": {},
   "outputs": [],
   "source": [
    "\n",
    "#attempt at direct BIL to mosaic\n",
    "for each in ['01','02','03','04','05','06','07','08','09','10','11','12']:\n",
    "    desired_file = \"Lab2.gdb\\\\PRISM_ppt_30yr_normal_4kmM2_\"+each+\"_bil\"\n",
    "    \n",
    "    #add to newly created mosaic\n",
    "    arcpy.AddRastersToMosaicDataset_management('Lab2.gdb/TestMosaic3','Raster Dataset', desired_file)\n",
    "                                             "
   ]
  },
  {
   "cell_type": "code",
   "execution_count": 22,
   "metadata": {},
   "outputs": [
    {
     "data": {
      "text/html": [
       "<h2>Output</h2>C:\\Users\\Cole\\Documents\\GitHub\\GIS5572\\Lab2\\Lab2.gdb\\TestMosaic3<h2>Messages</h2>Start Time: Monday, March 1, 2021 6:16:42 PM<br/>Adding Timestamp to AMD_TestMosaic3_CAT...<br/>Succeeded at Monday, March 1, 2021 6:16:43 PM (Elapsed Time: 1.41 seconds)<br/><style>.rendered_html td, .rendered_html th {text-align: left;}.rendered_html tbody {border: 1px solid black;}</style>"
      ],
      "text/plain": [
       "<Result 'C:\\\\Users\\\\Cole\\\\Documents\\\\GitHub\\\\GIS5572\\\\Lab2\\\\Lab2.gdb\\\\TestMosaic3'>"
      ]
     },
     "execution_count": 22,
     "metadata": {},
     "output_type": "execute_result"
    }
   ],
   "source": [
    "# Process: Calculate Variable Field\n",
    "arcpy.management.CalculateField(in_table=Updated_Mosaic_Dataset,\n",
    "                                                         field=\"Variable\",\n",
    "                                                         expression=\"\\\"precipitation\\\"\",\n",
    "                                                         expression_type=\"PYTHON3\",\n",
    "                                                         field_type=\"TEXT\")\n",
    "# Process: Calculate Timestamp Field (2)\n",
    "arcpy.management.CalculateField(in_table=Updated_Mosaic_Dataset,\n",
    "                                                        field=\"Timestamp\",\n",
    "                                                        expression =\"DateAdd(Date(2010,0,1), $feature.OBJECTID-1, 'month')\",\n",
    "                                                        expression_type=\"ARCADE\",\n",
    "                                                        field_type=\"DATE\")"
   ]
  },
  {
   "cell_type": "code",
   "execution_count": 23,
   "metadata": {},
   "outputs": [
    {
     "data": {
      "text/html": [
       "<h2>Output</h2>C:\\Users\\Cole\\Documents\\GitHub\\GIS5572\\Lab2\\Lab2.gdb\\TestMosaic3<h2>Messages</h2>Start Time: Monday, March 1, 2021 6:17:23 PM<br/>Succeeded at Monday, March 1, 2021 6:17:25 PM (Elapsed Time: 1.87 seconds)<br/><style>.rendered_html td, .rendered_html th {text-align: left;}.rendered_html tbody {border: 1px solid black;}</style>"
      ],
      "text/plain": [
       "<Result 'C:\\\\Users\\\\Cole\\\\Documents\\\\GitHub\\\\GIS5572\\\\Lab2\\\\Lab2.gdb\\\\TestMosaic3'>"
      ]
     },
     "execution_count": 23,
     "metadata": {},
     "output_type": "execute_result"
    }
   ],
   "source": [
    "# Process: Build Multidimensional Info \n",
    "arcpy.md.BuildMultidimensionalInfo(in_mosaic_dataset=TestMosaic3,\n",
    "                                                           variable_field=\"Variable\",\n",
    "                                                           dimension_fields=[[\"Timestamp\", \"\", \"\"]],\n",
    "                                                           variable_desc_units=[])"
   ]
  },
  {
   "cell_type": "code",
   "execution_count": 24,
   "metadata": {},
   "outputs": [
    {
     "data": {
      "text/html": [
       "<h2>Output</h2>a Layer object<h2>Messages</h2>Start Time: Monday, March 1, 2021 6:17:30 PM<br/>Succeeded at Monday, March 1, 2021 6:17:37 PM (Elapsed Time: 6.22 seconds)<br/><style>.rendered_html td, .rendered_html th {text-align: left;}.rendered_html tbody {border: 1px solid black;}</style>"
      ],
      "text/plain": [
       "<Result 'Lab2.gdb\\\\TestMosaic3_MultidimLayer'>"
      ]
     },
     "execution_count": 24,
     "metadata": {},
     "output_type": "execute_result"
    }
   ],
   "source": [
    "# Process: Make Multidimensional Raster Layer\n",
    "#use precip for variable\n",
    "arcpy.md.MakeMultidimensionalRasterLayer(in_multidimensional_raster = TestMosaic3,\n",
    "                                                 out_multidimensional_raster_layer=\"Lab2.gdb\\\\TestMosaic3_MultidimLayer\",\n",
    "                                                 variables=[\"precipitation\"], dimension_def=\"ALL\",\n",
    "                                                 dimension_ranges=[], dimension_values=[],\n",
    "                                                 dimension=\"\", start_of_first_iteration=\"\",\n",
    "                                                 end_of_first_iteration=\"\", iteration_step=None,\n",
    "                                                 iteration_unit=\"\", template=\"DEFAULT\",\n",
    "                                                 dimensionless=\"DIMENSIONS\")"
   ]
  },
  {
   "cell_type": "code",
   "execution_count": 26,
   "metadata": {},
   "outputs": [
    {
     "data": {
      "text/html": [
       "<h2>Output</h2>C:\\Users\\Cole\\Documents\\GitHub\\GIS5572\\Lab2\\TimeCube2.nc<h2>Messages</h2>Start Time: Monday, March 1, 2021 6:21:04 PM<br/>WARNING 110296: The Input Multidimensional Raster Layer contains irregular time intervals.  The data has been binned into regular intervals of 2419200 seconds.<br/>WARNING 110013: The default Time Step Interval is 28 days.<br/>The space time cube has aggregated 305309515 points into 964467 fishnet grid locations over 12 time step intervals.  Each location is a 4638.31 meters by 4638.31 meters square.  The entire space time cube spans an area 6136486.93 meters west to east and 3381329.53 meters north to south.  Each of the time step intervals is 28 days in duration so the entire time period covered by the space time cube is 336 days.  Of the 964467 total locations, 384562 (39.87%) contain at least one point for at least one time step interval.  These 384562 locations comprise 4614744 space time bins of which 11573604 (250.80%) have point counts greater than zero.  There is not a statistically significant increase or decrease in point counts over time.<br/><br/>---------- Space Time Cube Characteristics -----------<br/>Input feature time extent          2010-01-01 06:00:00<br/>                                to 2010-12-01 06:00:00<br/>                                                      <br/>Number of time steps                                12<br/>Time step interval                             28 days<br/>Time step alignment                                End<br/>                                                      <br/>First time step temporal bias                    7.14%<br/>First time step interval                         after<br/>                                   2009-12-30 06:00:00<br/>                                       to on or before<br/>                                   2010-01-27 06:00:00<br/>                                                      <br/>Last time step temporal bias                     0.00%<br/>Last time step interval                          after<br/>                                   2010-11-03 06:00:00<br/>                                       to on or before<br/>                                   2010-12-01 06:00:00<br/>                                                      <br/>Cube extent across space       (coordinates in meters)<br/>Min X                                    -2871587.5494<br/>Min Y                                     2660354.4221<br/>Max X                                     3264899.3806<br/>Max Y                                     6041683.9549<br/>Rows                                               729<br/>Columns                                           1323<br/>Total bins                                    11573604<br/><br/>--- Overall Data Trend - PRECIPITATION_NONE_ZEROS ----<br/>Trend direction                        Not Significant<br/>Trend statistic                                 0.0686<br/>Trend p-value                                   0.9453<br/><br/>Succeeded at Monday, March 1, 2021 6:21:15 PM (Elapsed Time: 10.73 seconds)<br/><style>.rendered_html td, .rendered_html th {text-align: left;}.rendered_html tbody {border: 1px solid black;}</style>"
      ],
      "text/plain": [
       "<Result 'C:\\\\Users\\\\Cole\\\\Documents\\\\GitHub\\\\GIS5572\\\\Lab2\\\\TimeCube2.nc'>"
      ]
     },
     "execution_count": 26,
     "metadata": {},
     "output_type": "execute_result"
    }
   ],
   "source": [
    "# Process: Create Space Time Cube From Multidimensional Raster Layer\n",
    "TimeCube2_nc = \"C:\\\\Users\\\\Cole\\\\Documents\\\\GitHub\\\\GIS5572\\\\Lab2\\\\TimeCube2.nc\"\n",
    "arcpy.stpm.CreateSpaceTimeCubeMDRasterLayer(in_md_raster=\"Lab2.gdb\\\\TestMosaic3_MultidimLayer\", output_cube=TimeCube2_nc, fill_empty_bins=\"ZEROS\")"
   ]
  },
  {
   "cell_type": "code",
   "execution_count": 30,
   "metadata": {},
   "outputs": [
    {
     "data": {
      "text/html": [
       "<h2>Output</h2>C:\\Users\\Cole\\Documents\\GitHub\\GIS5572\\Lab2\\Lab2.gdb\\TimeCube2_VisualizeSpaceTimeCube3D<h2>Messages</h2>Start Time: Monday, March 1, 2021 6:24:22 PM<br/>WARNING 110044: The time it takes to render the cube in three dimensions may vary considerably based on the number of features and the graphics card associated with your CPU.<br/>WARNING 110054: If some or all of your data is not drawing, it may fall outside of the Visibility Range limits, which can be cleared. If some or all of your data is underground, you may need to turn off Elevation Surfaces.<br/>Succeeded at Monday, March 1, 2021 6:26:48 PM (Elapsed Time: 2 minutes 26 seconds)<br/><style>.rendered_html td, .rendered_html th {text-align: left;}.rendered_html tbody {border: 1px solid black;}</style>"
      ],
      "text/plain": [
       "<Result 'C:\\\\Users\\\\Cole\\\\Documents\\\\GitHub\\\\GIS5572\\\\Lab2\\\\Lab2.gdb\\\\TimeCube2_VisualizeSpaceTimeCube3D'>"
      ]
     },
     "execution_count": 30,
     "metadata": {},
     "output_type": "execute_result"
    }
   ],
   "source": [
    "# Process: Visualize Space Time Cube in 3D\n",
    "TimeCube2_VisualizeSpaceTimeCube3D = \"C:\\\\Users\\\\Cole\\\\Documents\\\\GitHub\\\\GIS5572\\\\Lab2\\\\Lab2.gdb\\\\TimeCube2_VisualizeSpaceTimeCube3D\"\n",
    "arcpy.stpm.VisualizeSpaceTimeCube3D(in_cube=TimeCube2_nc,\n",
    "                                            cube_variable=\"PRECIPITATION_NONE_ZEROS\",\n",
    "                                            display_theme=\"VALUE\",\n",
    "                                            output_features=TimeCube2_VisualizeSpaceTimeCube3D)"
   ]
  },
  {
   "cell_type": "code",
   "execution_count": null,
   "metadata": {},
   "outputs": [],
   "source": [
    "Export to Time Series"
   ]
  }
 ],
 "metadata": {
  "kernelspec": {
   "display_name": "Python 3",
   "language": "python",
   "name": "python3"
  },
  "language_info": {
   "codemirror_mode": {
    "name": "ipython",
    "version": 3
   },
   "file_extension": ".py",
   "mimetype": "text/x-python",
   "name": "python",
   "nbconvert_exporter": "python",
   "pygments_lexer": "ipython3",
   "version": "3.6.10"
  }
 },
 "nbformat": 4,
 "nbformat_minor": 2
}
