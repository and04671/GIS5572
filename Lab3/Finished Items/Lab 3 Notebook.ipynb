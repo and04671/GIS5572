{
 "cells": [
  {
   "cell_type": "markdown",
   "metadata": {},
   "source": [
    "ArcPro\n",
    "1. Create an ND dataset\n",
    "\t1. Edit properties to fit\n",
    "2. Add points layer for drops and start\n",
    "\t1. Probably have to geocode addresses\n",
    "3. Create a VRP layer (it will reference ND in contents)\n",
    "\t1. Add locations via import orders w/ times and map, max violation time\n",
    "\t2. Add start/stop via import depots w/\n",
    "\t3. Add routes (make a lot of assumptions/interpretations)\n",
    "4. Set properties for VRP layer\n",
    "5. Directions in directions pane\n"
   ]
  },
  {
   "cell_type": "code",
   "execution_count": 9,
   "metadata": {},
   "outputs": [
    {
     "data": {
      "text/html": [
       "<h2>Output</h2>Lab3.gdb\\Streets<h2>Messages</h2>Start Time: Friday, March 12, 2021 12:05:18 PM<br/>Data\\shp_trans_road_centerlines_gac\\RoadCenterline.shp Successfully converted:  Lab3.gdb\\Streets\\RoadCenterline<br/>Succeeded at Friday, March 12, 2021 12:05:47 PM (Elapsed Time: 28.64 seconds)<br/><style>.rendered_html td, .rendered_html th {text-align: left;}.rendered_html tbody {border: 1px solid black;}</style>"
      ],
      "text/plain": [
       "<Result 'Lab3.gdb\\\\Streets'>"
      ]
     },
     "execution_count": 9,
     "metadata": {},
     "output_type": "execute_result"
    }
   ],
   "source": [
    "#import layers to GDB\n",
    "import arcpy\n",
    "\n",
    "#create a target dataset in the GDB\n",
    "arcpy.CreateFeatureDataset_management(\"Lab3.gdb\", \"Streets\", 4326)\n",
    "arcpy.conversion.FeatureClassToGeodatabase(\"Data\\shp_trans_road_centerlines_gac\\RoadCenterline.shp\",\n",
    "                                           \"Lab3.gdb\\Streets\")\n",
    "\n",
    "#make the"
   ]
  },
  {
   "cell_type": "markdown",
   "metadata": {},
   "source": [
    "Build Network Dataset"
   ]
  },
  {
   "cell_type": "code",
   "execution_count": 54,
   "metadata": {},
   "outputs": [
    {
     "data": {
      "text/html": [
       "<h2>Output</h2>Lab3.gdb\\Streets\\Streets_ND<h2>Messages</h2>Start Time: Friday, March 12, 2021 1:30:05 PM<br/>Succeeded at Friday, March 12, 2021 1:30:06 PM (Elapsed Time: 1.36 seconds)<br/><style>.rendered_html td, .rendered_html th {text-align: left;}.rendered_html tbody {border: 1px solid black;}</style>"
      ],
      "text/plain": [
       "<Result 'Lab3.gdb\\\\Streets\\\\Streets_ND'>"
      ]
     },
     "execution_count": 54,
     "metadata": {},
     "output_type": "execute_result"
    }
   ],
   "source": [
    "arcpy.na.CreateNetworkDataset(r\"Lab3.gdb\\Streets\",\n",
    "                              \"Streets_ND\",\"RoadCenterline\",\n",
    "                               \"ELEVATION_FIELDS\")\n",
    "#can further custom configure in ND properties pages in ArcPro, but not here\n",
    "#create a new f\n",
    "#arcpy.na.BuildNetwork(\"Lab3.gdb\\Streets\\Streets_ND\")\n",
    "#SPEED_IMP/ROUTESPEED = speedlimit"
   ]
  },
  {
   "cell_type": "markdown",
   "metadata": {},
   "source": [
    "Convert addresses to points layers"
   ]
  },
  {
   "cell_type": "code",
   "execution_count": 48,
   "metadata": {},
   "outputs": [
    {
     "data": {
      "text/html": [
       "<h2>Output</h2>C:\\Users\\Cole\\Documents\\GitHub\\GIS5572\\Lab3\\Lab3.gdb\\DepotGeocoderRetry<h2>Messages</h2>Start Time: Friday, March 12, 2021 12:42:09 PM<br/>Executing Geocode Addresses...<br/>1 Matched (10.00%)<br/>9 Unmatched (90.00%)<br/>0 Tied (0.00%)<br/>Average speed: 57600 (records/hour)<br/>Succeeded at Friday, March 12, 2021 12:42:09 PM (Elapsed Time: 0.74 seconds)<br/><style>.rendered_html td, .rendered_html th {text-align: left;}.rendered_html tbody {border: 1px solid black;}</style>"
      ],
      "text/plain": [
       "<Result 'C:\\\\Users\\\\Cole\\\\Documents\\\\GitHub\\\\GIS5572\\\\Lab3\\\\Lab3.gdb\\\\DepotGeocoderRetry'>"
      ]
     },
     "execution_count": 48,
     "metadata": {},
     "output_type": "execute_result"
    }
   ],
   "source": [
    "# Model Environment settings\n",
    "scratchWorkspace=r\"C:\\Users\\Cole\\Documents\\GitHub\\GIS5572\\Lab3\\Lab3.gdb\",\n",
    "workspace=r\"C:\\Users\\Cole\\Documents\\GitHub\\GIS5572\\Lab3\\Lab3.gdb\"\n",
    "\n",
    "Address = \"C:\\\\Users\\\\Cole\\\\Documents\\\\GitHub\\\\GIS5572\\\\Lab3\\\\Data\\\\AddressSpreadsheet.csv\"\n",
    "Depot = \"C:\\\\Users\\\\Cole\\\\Documents\\\\GitHub\\\\GIS5572\\\\Lab3\\\\Data\\\\DepotSpreadsheet.csv\"\n",
    "\n",
    "ArcGIS_World_Geocoding_Service = \"https://geocode.arcgis.com/arcgis/rest/services/World/GeocodeServer/ArcGIS World Geocoding Service\"\n",
    "\n",
    "# Process: Geocode Addresses (Geocode Addresses) (geocoding)\n",
    "AddressGeocoderRetry = \"C:\\\\Users\\\\Cole\\\\Documents\\\\GitHub\\\\GIS5572\\\\Lab3\\\\Lab3.gdb\\\\AddressGeocoderRetry\"\n",
    "arcpy.geocoding.GeocodeAddresses(in_table=Address, address_locator=ArcGIS_World_Geocoding_Service, in_address_fields=\"'Address or Place' 'Street Address' VISIBLE NONE;Address2 <None> VISIBLE NONE;Address3 <None> VISIBLE NONE;Neighborhood <None> VISIBLE NONE;City City VISIBLE NONE;County <None> VISIBLE NONE;State State VISIBLE NONE;ZIP ZIP VISIBLE NONE;ZIP4 <None> VISIBLE NONE;Country <None> VISIBLE NONE\", out_feature_class=AddressGeocoderRetry, out_relationship_type=\"STATIC\", country=[\"US\"], location_type=\"ROUTING_LOCATION\", category=[\"Subaddress\", \"Point Address\", \"Street Address\", \"Distance Marker\", \"Intersection\", \"Street Name\"])\n",
    "\n",
    "# Model Environment settings\n",
    "\n",
    "# Process: Geocode Addresses (Geocode Addresses) (geocoding)\n",
    "DepotGeocoderRetry = \"C:\\\\Users\\\\Cole\\\\Documents\\\\GitHub\\\\GIS5572\\\\Lab3\\\\Lab3.gdb\\\\DepotGeocoderRetry\"\n",
    "arcpy.geocoding.GeocodeAddresses(in_table=Depot, address_locator=ArcGIS_World_Geocoding_Service, in_address_fields=\"'Address or Place' 'Street Address' VISIBLE NONE;Address2 <None> VISIBLE NONE;Address3 <None> VISIBLE NONE;Neighborhood <None> VISIBLE NONE;City City VISIBLE NONE;County <None> VISIBLE NONE;State State VISIBLE NONE;ZIP ZIP VISIBLE NONE;ZIP4 <None> VISIBLE NONE;Country <None> VISIBLE NONE\", out_feature_class=DepotGeocoderRetry, out_relationship_type=\"STATIC\", country=[\"US\"], location_type=\"ROUTING_LOCATION\", category=[\"Subaddress\", \"Point Address\", \"Street Address\", \"Distance Marker\", \"Intersection\", \"Street Name\"])"
   ]
  },
  {
   "cell_type": "markdown",
   "metadata": {},
   "source": [
    "Make VRP Layer and Solve"
   ]
  },
  {
   "cell_type": "code",
   "execution_count": 53,
   "metadata": {},
   "outputs": [
    {
     "ename": "ExecuteError",
     "evalue": "Failed to execute. Parameters are not valid.\nERROR 030253: Network has no travel modes.\nFailed to execute (MakeVehicleRoutingProblemAnalysisLayer).\n",
     "output_type": "error",
     "traceback": [
      "\u001b[1;31m---------------------------------------------------------------------------\u001b[0m",
      "\u001b[1;31mExecuteError\u001b[0m                              Traceback (most recent call last)",
      "\u001b[1;32m<ipython-input-53-58fb45cbffaf>\u001b[0m in \u001b[0;36m<module>\u001b[1;34m\u001b[0m\n\u001b[0;32m     21\u001b[0m result_object = arcpy.na.MakeVehicleRoutingProblemAnalysisLayer(\n\u001b[0;32m     22\u001b[0m \u001b[0mnetwork\u001b[0m\u001b[1;33m,\u001b[0m \u001b[0mlayer_name\u001b[0m\u001b[1;33m,\u001b[0m \u001b[0mtravel_mode\u001b[0m\u001b[1;33m,\u001b[0m \u001b[0mtime_units\u001b[0m\u001b[1;33m,\u001b[0m \u001b[0mdistance_units\u001b[0m\u001b[1;33m,\u001b[0m\u001b[1;33m\u001b[0m\u001b[1;33m\u001b[0m\u001b[0m\n\u001b[1;32m---> 23\u001b[1;33m line_shape=\"STRAIGHT_LINES\")\n\u001b[0m",
      "\u001b[1;32mC:\\Program Files\\ArcGIS\\Pro\\Resources\\ArcPy\\arcpy\\na.py\u001b[0m in \u001b[0;36mMakeVehicleRoutingProblemAnalysisLayer\u001b[1;34m(network_data_source, layer_name, travel_mode, time_units, distance_units, default_date, time_zone_for_time_fields, line_shape, time_window_factor, excess_transit_factor, generate_directions_on_solve, spatial_clustering)\u001b[0m\n\u001b[0;32m   3003\u001b[0m         \u001b[1;32mreturn\u001b[0m \u001b[0mretval\u001b[0m\u001b[1;33m\u001b[0m\u001b[1;33m\u001b[0m\u001b[0m\n\u001b[0;32m   3004\u001b[0m     \u001b[1;32mexcept\u001b[0m \u001b[0mException\u001b[0m \u001b[1;32mas\u001b[0m \u001b[0me\u001b[0m\u001b[1;33m:\u001b[0m\u001b[1;33m\u001b[0m\u001b[1;33m\u001b[0m\u001b[0m\n\u001b[1;32m-> 3005\u001b[1;33m         \u001b[1;32mraise\u001b[0m \u001b[0me\u001b[0m\u001b[1;33m\u001b[0m\u001b[1;33m\u001b[0m\u001b[0m\n\u001b[0m\u001b[0;32m   3006\u001b[0m \u001b[1;33m\u001b[0m\u001b[0m\n\u001b[0;32m   3007\u001b[0m \u001b[1;33m@\u001b[0m\u001b[0mgptooldoc\u001b[0m\u001b[1;33m(\u001b[0m\u001b[1;34m'ShareAsRouteLayers_na'\u001b[0m\u001b[1;33m,\u001b[0m \u001b[1;32mNone\u001b[0m\u001b[1;33m)\u001b[0m\u001b[1;33m\u001b[0m\u001b[1;33m\u001b[0m\u001b[0m\n",
      "\u001b[1;32mC:\\Program Files\\ArcGIS\\Pro\\Resources\\ArcPy\\arcpy\\na.py\u001b[0m in \u001b[0;36mMakeVehicleRoutingProblemAnalysisLayer\u001b[1;34m(network_data_source, layer_name, travel_mode, time_units, distance_units, default_date, time_zone_for_time_fields, line_shape, time_window_factor, excess_transit_factor, generate_directions_on_solve, spatial_clustering)\u001b[0m\n\u001b[0;32m   3000\u001b[0m     \u001b[1;32mfrom\u001b[0m \u001b[0marcpy\u001b[0m\u001b[1;33m.\u001b[0m\u001b[0marcobjects\u001b[0m\u001b[1;33m.\u001b[0m\u001b[0marcobjectconversion\u001b[0m \u001b[1;32mimport\u001b[0m \u001b[0mconvertArcObjectToPythonObject\u001b[0m\u001b[1;33m\u001b[0m\u001b[1;33m\u001b[0m\u001b[0m\n\u001b[0;32m   3001\u001b[0m     \u001b[1;32mtry\u001b[0m\u001b[1;33m:\u001b[0m\u001b[1;33m\u001b[0m\u001b[1;33m\u001b[0m\u001b[0m\n\u001b[1;32m-> 3002\u001b[1;33m         \u001b[0mretval\u001b[0m \u001b[1;33m=\u001b[0m \u001b[0mconvertArcObjectToPythonObject\u001b[0m\u001b[1;33m(\u001b[0m\u001b[0mgp\u001b[0m\u001b[1;33m.\u001b[0m\u001b[0mMakeVehicleRoutingProblemAnalysisLayer_na\u001b[0m\u001b[1;33m(\u001b[0m\u001b[1;33m*\u001b[0m\u001b[0mgp_fixargs\u001b[0m\u001b[1;33m(\u001b[0m\u001b[1;33m(\u001b[0m\u001b[0mnetwork_data_source\u001b[0m\u001b[1;33m,\u001b[0m \u001b[0mlayer_name\u001b[0m\u001b[1;33m,\u001b[0m \u001b[0mtravel_mode\u001b[0m\u001b[1;33m,\u001b[0m \u001b[0mtime_units\u001b[0m\u001b[1;33m,\u001b[0m \u001b[0mdistance_units\u001b[0m\u001b[1;33m,\u001b[0m \u001b[0mdefault_date\u001b[0m\u001b[1;33m,\u001b[0m \u001b[0mtime_zone_for_time_fields\u001b[0m\u001b[1;33m,\u001b[0m \u001b[0mline_shape\u001b[0m\u001b[1;33m,\u001b[0m \u001b[0mtime_window_factor\u001b[0m\u001b[1;33m,\u001b[0m \u001b[0mexcess_transit_factor\u001b[0m\u001b[1;33m,\u001b[0m \u001b[0mgenerate_directions_on_solve\u001b[0m\u001b[1;33m,\u001b[0m \u001b[0mspatial_clustering\u001b[0m\u001b[1;33m)\u001b[0m\u001b[1;33m,\u001b[0m \u001b[1;32mTrue\u001b[0m\u001b[1;33m)\u001b[0m\u001b[1;33m)\u001b[0m\u001b[1;33m)\u001b[0m\u001b[1;33m\u001b[0m\u001b[1;33m\u001b[0m\u001b[0m\n\u001b[0m\u001b[0;32m   3003\u001b[0m         \u001b[1;32mreturn\u001b[0m \u001b[0mretval\u001b[0m\u001b[1;33m\u001b[0m\u001b[1;33m\u001b[0m\u001b[0m\n\u001b[0;32m   3004\u001b[0m     \u001b[1;32mexcept\u001b[0m \u001b[0mException\u001b[0m \u001b[1;32mas\u001b[0m \u001b[0me\u001b[0m\u001b[1;33m:\u001b[0m\u001b[1;33m\u001b[0m\u001b[1;33m\u001b[0m\u001b[0m\n",
      "\u001b[1;32mC:\\Program Files\\ArcGIS\\Pro\\Resources\\ArcPy\\arcpy\\geoprocessing\\_base.py\u001b[0m in \u001b[0;36m<lambda>\u001b[1;34m(*args)\u001b[0m\n\u001b[0;32m    509\u001b[0m         \u001b[0mval\u001b[0m \u001b[1;33m=\u001b[0m \u001b[0mgetattr\u001b[0m\u001b[1;33m(\u001b[0m\u001b[0mself\u001b[0m\u001b[1;33m.\u001b[0m\u001b[0m_gp\u001b[0m\u001b[1;33m,\u001b[0m \u001b[0mattr\u001b[0m\u001b[1;33m)\u001b[0m\u001b[1;33m\u001b[0m\u001b[1;33m\u001b[0m\u001b[0m\n\u001b[0;32m    510\u001b[0m         \u001b[1;32mif\u001b[0m \u001b[0mcallable\u001b[0m\u001b[1;33m(\u001b[0m\u001b[0mval\u001b[0m\u001b[1;33m)\u001b[0m\u001b[1;33m:\u001b[0m\u001b[1;33m\u001b[0m\u001b[1;33m\u001b[0m\u001b[0m\n\u001b[1;32m--> 511\u001b[1;33m             \u001b[1;32mreturn\u001b[0m \u001b[1;32mlambda\u001b[0m \u001b[1;33m*\u001b[0m\u001b[0margs\u001b[0m\u001b[1;33m:\u001b[0m \u001b[0mval\u001b[0m\u001b[1;33m(\u001b[0m\u001b[1;33m*\u001b[0m\u001b[0mgp_fixargs\u001b[0m\u001b[1;33m(\u001b[0m\u001b[0margs\u001b[0m\u001b[1;33m,\u001b[0m \u001b[1;32mTrue\u001b[0m\u001b[1;33m)\u001b[0m\u001b[1;33m)\u001b[0m\u001b[1;33m\u001b[0m\u001b[1;33m\u001b[0m\u001b[0m\n\u001b[0m\u001b[0;32m    512\u001b[0m         \u001b[1;32melse\u001b[0m\u001b[1;33m:\u001b[0m\u001b[1;33m\u001b[0m\u001b[1;33m\u001b[0m\u001b[0m\n\u001b[0;32m    513\u001b[0m             \u001b[1;32mreturn\u001b[0m \u001b[0mconvertArcObjectToPythonObject\u001b[0m\u001b[1;33m(\u001b[0m\u001b[0mval\u001b[0m\u001b[1;33m)\u001b[0m\u001b[1;33m\u001b[0m\u001b[1;33m\u001b[0m\u001b[0m\n",
      "\u001b[1;31mExecuteError\u001b[0m: Failed to execute. Parameters are not valid.\nERROR 030253: Network has no travel modes.\nFailed to execute (MakeVehicleRoutingProblemAnalysisLayer).\n"
     ]
    }
   ],
   "source": [
    "# Import system modules\n",
    "import arcpy\n",
    "import os\n",
    "\n",
    "output_dir = r\"C:\\Users\\Cole\\Documents\\GitHub\\GIS5572\\Lab3\"\n",
    "arcpy.env.workspace = os.path.join(output_dir, \"Lab3.gdb\")\n",
    "arcpy.env.overwriteOutput = True\n",
    "\n",
    "# Set local variables, ND\n",
    "input_gdb = r\"C:\\Users\\Cole\\Documents\\GitHub\\GIS5572\\Lab3\\Lab3.gdb\"\n",
    "network = os.path.join(input_gdb, \"Streets\\Streets_ND\")\n",
    "layer_name = \"StoreDeliveryRoute\"\n",
    "output_layer_file = os.path.join(output_dir, layer_name + \".lyrx\")\n",
    "\n",
    "#VPR layer basic specs\n",
    "travel_mode = \"Driving Time\"\n",
    "time_units = \"Minutes\"\n",
    "distance_units = \"Miles\"\n",
    "\n",
    "#create the VRP layer output\n",
    "result_object = arcpy.na.MakeVehicleRoutingProblemAnalysisLayer(\n",
    "network, layer_name, travel_mode, time_units, distance_units,\n",
    "line_shape=\"STRAIGHT_LINES\")"
   ]
  },
  {
   "cell_type": "code",
   "execution_count": null,
   "metadata": {},
   "outputs": [],
   "source": [
    "# Get the layer object form the result object. The route layer can now be referenced using the layer object.\n",
    "VRP_object = result_object.getOutput(0)\n",
    "\n",
    "# Get the names of all the sublayers within the VRP layer.\n",
    "sub_layer_names = arcpy.na.GetNAClassNames(VRP_object)"
   ]
  },
  {
   "cell_type": "code",
   "execution_count": null,
   "metadata": {},
   "outputs": [],
   "source": [
    "############################################################\n",
    "in_orders = os.path.join(input_gdb,\"Orders\")\n",
    "\n",
    "orders_layer_name = sub_layer_names[\"Orders\"]\n",
    "\n",
    "#map the fields from orders to correct properties/values\n",
    "candidate_fields = arcpy.ListFields(in_orders)\n",
    "order_field_mappings = arcpy.na.NAClassFieldMappings(layer_object, orders_layer_name, False, candidate_fields)\n",
    "order_field_mappings[\"TimeWindowStart\"].mappedFieldName = \"TimeStart1\"\n",
    "order_field_mappings[\"TimeWindowEnd\"].mappedFieldName = \"TimeEnd1\"\n",
    "order_field_mappings[\"DeliveryQuantity_1\"].mappedFieldName = \"Demand\"\n",
    "order_field_mappings[\"MaxViolationTime\"].defaultValue = 0\n",
    "\n",
    "#add the locations to the VRP\n",
    "arcpy.na.AddLocations(layer_object, orders_layer_name, in_orders, order_field_mappings, \"\")"
   ]
  },
  {
   "cell_type": "code",
   "execution_count": null,
   "metadata": {},
   "outputs": [],
   "source": [
    "##########################################################    \n",
    "in_depots = os.path.join(input_gdb, \"DistributionCenter\")\n",
    "\n",
    "depots_layer_name = sub_layer_names[\"Depots\"]\n",
    "    \n",
    "#map the fields from depots to correct properties/values\n",
    "depot_field_mappings = arcpy.na.NAClassFieldMappings(layer_object, depots_layer_name)\n",
    "depot_field_mappings[\"Name\"].mappedFieldName = \"Name\"\n",
    "depot_field_mappings[\"TimeWindowStart\"].defaultValue = \"8 AM\"\n",
    "depot_field_mappings[\"TimeWindowEnd\"].defaultValue = \"6 PM\"\n",
    "\n",
    "#add the depots to the VRP\n",
    "arcpy.na.AddLocations(layer_object, depots_layer_name, in_depots, depot_field_mappings, \"\")"
   ]
  },
  {
   "cell_type": "code",
   "execution_count": null,
   "metadata": {},
   "outputs": [],
   "source": [
    "#######################################################################\n",
    "# Load the routes from a table containing information about routes. In this\n",
    "# case, since the fields on the routes table and property names for Routes\n",
    "# are the same, we will just use the default field mappings\n",
    "\n",
    "#routes_layer_name = sub_layer_names[\"Routes\"]\n",
    "\n",
    "#map the fields from routes to correct properties/values (most are defaults)\n",
    "#arcpy.na.AddVehicleRoutingProblemRoutes(layer_object, 2,\n",
    " #                                       \"UPSTruck\", {start_depot_name},\n",
    "  #                                      {end_depot_name}, \"8AM\",\"8AM\",\n",
    "   #                                     10,{capacities}, {route_constraints},\n",
    "    #                                    {costs},{additional_route_time},\n",
    "     #                                   \"CLEAR\")\n",
    "\n",
    "\n",
    "#routes_field_mappings = arcpy.na.NAClassFieldMappings(layer_object, routes_layer_name)\n",
    "#routes_field_mappings[\"Name\"].mappedFieldName = \"Name\"\n",
    "#routes_field_mappings[\"StartDepotName\"].mappedFieldName = \"StartDepotName\"\n",
    "#routes_field_mappings[\"EndDepotName\"].mappedFieldName = \"EndDepotName\"\n",
    "#routes_field_mappings[\"StartDepotServiceTime\"].mappedFieldName = \"StartDepotServiceTime\"\n",
    "#routes_field_mappings[\"Capacity_1\"].mappedFieldName = \"Capacities\"\n",
    "#routes_field_mappings[\"CostPerUnitTime\"].mappedFieldName = \"CostPerUnitTime\"\n",
    "#routes_field_mappings[\"CostPerUnitDistance\"].mappedFieldName = \"CostPerUnitDistance\"\n",
    "#routes_field_mappings[\"MaxOrderCount\"].mappedFieldName = \"MaxOrderCount\"\n",
    "#routes_field_mappings[\"MaxTotalTime\"].mappedFieldName = \"MaxTotalTime\"\n",
    "#routes_field_mappings[\"MaxTotalTravelTime\"].mappedFieldName = \"MaxTotalTravelTime\"\n",
    "#routes_field_mappings[\"MaxTotalDistance\"].mappedFieldName = \"MaxTotalDistance\"\n",
    "#arcpy.na.AddLocations(layer_object, routes_layer_name, in_routes, routes_field_mappings, \"\")\n",
    "\n",
    "# Solve the VRP layer\n",
    "#arcpy.na.Solve(layer_object)\n",
    "\n",
    "# Save the solved VRP layer as a layer file on disk with relative paths\n",
    "#arcpy.management.SaveToLayerFile(layer_object, output_layer_file, \"RELATIVE\")"
   ]
  }
 ],
 "metadata": {
  "kernelspec": {
   "display_name": "Python 3",
   "language": "python",
   "name": "python3"
  },
  "language_info": {
   "codemirror_mode": {
    "name": "ipython",
    "version": 3
   },
   "file_extension": ".py",
   "mimetype": "text/x-python",
   "name": "python",
   "nbconvert_exporter": "python",
   "pygments_lexer": "ipython3",
   "version": "3.6.10"
  }
 },
 "nbformat": 4,
 "nbformat_minor": 4
}
